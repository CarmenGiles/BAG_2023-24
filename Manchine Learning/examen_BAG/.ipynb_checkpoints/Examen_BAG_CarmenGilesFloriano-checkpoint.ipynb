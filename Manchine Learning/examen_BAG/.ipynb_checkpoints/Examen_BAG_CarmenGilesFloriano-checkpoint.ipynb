{
 "cells": [
  {
   "cell_type": "markdown",
   "metadata": {
    "tags": []
   },
   "source": [
    "# Proyecto de análisis de sentimientos con Python"
   ]
  },
  {
   "cell_type": "markdown",
   "metadata": {},
   "source": [
    "##### Carmen Giles Floriano"
   ]
  },
  {
   "cell_type": "markdown",
   "metadata": {},
   "source": [
    "En este proyecto se realizará un **modelo de aprendizaje automático** capaz de analizar **tweets** y predecir el **sentimiento** del usuario dentro de las siguientes categorías: \"Muy feliz\", \"Contento\", \"Neutro\", \"Molesto\" y \"Hater\". Para ello, se probarán distintas alternativas para codificar el texto y generar el modelo, y, finalmente, se evaluará cuál predice mejor dichos sentimientos. "
   ]
  },
  {
   "cell_type": "markdown",
   "metadata": {
    "tags": []
   },
   "source": [
    "#### Ejercicio 1. RECOPILACIÓN DE DATOS"
   ]
  },
  {
   "cell_type": "markdown",
   "metadata": {},
   "source": [
    "En primer lugar, se lee el fichero `stock_tweets.csv` mediante el paquete `pandas`. Los datos fueron obtenidos de **Kaggle** y son un conjunto de tweets que comentan las acciones más valoradas en Yahoo Finance entre 30-09-2021 y 30-09-2022. \n"
   ]
  },
  {
   "cell_type": "code",
   "execution_count": 141,
   "metadata": {
    "jupyter": {
     "outputs_hidden": false
    }
   },
   "outputs": [
    {
     "data": {
      "text/html": [
       "<div>\n",
       "<style scoped>\n",
       "    .dataframe tbody tr th:only-of-type {\n",
       "        vertical-align: middle;\n",
       "    }\n",
       "\n",
       "    .dataframe tbody tr th {\n",
       "        vertical-align: top;\n",
       "    }\n",
       "\n",
       "    .dataframe thead th {\n",
       "        text-align: right;\n",
       "    }\n",
       "</style>\n",
       "<table border=\"1\" class=\"dataframe\">\n",
       "  <thead>\n",
       "    <tr style=\"text-align: right;\">\n",
       "      <th></th>\n",
       "      <th>date</th>\n",
       "      <th>tweet</th>\n",
       "      <th>stock_name</th>\n",
       "      <th>stock_company</th>\n",
       "    </tr>\n",
       "  </thead>\n",
       "  <tbody>\n",
       "    <tr>\n",
       "      <th>0</th>\n",
       "      <td>Date</td>\n",
       "      <td>Tweet</td>\n",
       "      <td>Stock Name</td>\n",
       "      <td>Company Name</td>\n",
       "    </tr>\n",
       "    <tr>\n",
       "      <th>1</th>\n",
       "      <td>2022-09-29 23:41:16+00:00</td>\n",
       "      <td>Mainstream media has done an amazing job at br...</td>\n",
       "      <td>TSLA</td>\n",
       "      <td>Tesla, Inc.</td>\n",
       "    </tr>\n",
       "    <tr>\n",
       "      <th>2</th>\n",
       "      <td>2022-09-29 23:24:43+00:00</td>\n",
       "      <td>Tesla delivery estimates are at around 364k fr...</td>\n",
       "      <td>TSLA</td>\n",
       "      <td>Tesla, Inc.</td>\n",
       "    </tr>\n",
       "    <tr>\n",
       "      <th>3</th>\n",
       "      <td>2022-09-29 23:18:08+00:00</td>\n",
       "      <td>3/ Even if I include 63.0M unvested RSUs as of...</td>\n",
       "      <td>TSLA</td>\n",
       "      <td>Tesla, Inc.</td>\n",
       "    </tr>\n",
       "    <tr>\n",
       "      <th>4</th>\n",
       "      <td>2022-09-29 22:40:07+00:00</td>\n",
       "      <td>@RealDanODowd @WholeMarsBlog @Tesla Hahaha why...</td>\n",
       "      <td>TSLA</td>\n",
       "      <td>Tesla, Inc.</td>\n",
       "    </tr>\n",
       "  </tbody>\n",
       "</table>\n",
       "</div>"
      ],
      "text/plain": [
       "                        date  \\\n",
       "0                       Date   \n",
       "1  2022-09-29 23:41:16+00:00   \n",
       "2  2022-09-29 23:24:43+00:00   \n",
       "3  2022-09-29 23:18:08+00:00   \n",
       "4  2022-09-29 22:40:07+00:00   \n",
       "\n",
       "                                               tweet  stock_name stock_company  \n",
       "0                                              Tweet  Stock Name  Company Name  \n",
       "1  Mainstream media has done an amazing job at br...        TSLA   Tesla, Inc.  \n",
       "2  Tesla delivery estimates are at around 364k fr...        TSLA   Tesla, Inc.  \n",
       "3  3/ Even if I include 63.0M unvested RSUs as of...        TSLA   Tesla, Inc.  \n",
       "4  @RealDanODowd @WholeMarsBlog @Tesla Hahaha why...        TSLA   Tesla, Inc.  "
      ]
     },
     "execution_count": 141,
     "metadata": {},
     "output_type": "execute_result"
    }
   ],
   "source": [
    "## Se importa el paquete pandas.\n",
    "import pandas \n",
    "\n",
    "## Con la función \"read_csv\" del paquete \"pandas\", leemos el data set indicando los nombres de las columnas.\n",
    "tweet_prev = pandas.read_csv('stock_tweets.csv', header=None,\n",
    "                       names=['date', 'tweet', 'stock_name', 'stock_company'])\n",
    "tweet_prev.head(5)"
   ]
  },
  {
   "cell_type": "markdown",
   "metadata": {},
   "source": [
    "Además, del texto del propio tweet existen otras columnas con más información, como la fecha de publicación o el nombre de la empresa de la acción mencionada en el tweet. \n",
    "\n",
    "En este proyecto, sólo nos interesa el texto correspondiente al tweet. Los demás datos son eliminados."
   ]
  },
  {
   "cell_type": "code",
   "execution_count": 142,
   "metadata": {},
   "outputs": [
    {
     "name": "stdout",
     "output_type": "stream",
     "text": [
      "(80793, 1)\n"
     ]
    },
    {
     "data": {
      "text/html": [
       "<div>\n",
       "<style scoped>\n",
       "    .dataframe tbody tr th:only-of-type {\n",
       "        vertical-align: middle;\n",
       "    }\n",
       "\n",
       "    .dataframe tbody tr th {\n",
       "        vertical-align: top;\n",
       "    }\n",
       "\n",
       "    .dataframe thead th {\n",
       "        text-align: right;\n",
       "    }\n",
       "</style>\n",
       "<table border=\"1\" class=\"dataframe\">\n",
       "  <thead>\n",
       "    <tr style=\"text-align: right;\">\n",
       "      <th></th>\n",
       "      <th>tweet</th>\n",
       "    </tr>\n",
       "  </thead>\n",
       "  <tbody>\n",
       "    <tr>\n",
       "      <th>1</th>\n",
       "      <td>Mainstream media has done an amazing job at br...</td>\n",
       "    </tr>\n",
       "    <tr>\n",
       "      <th>2</th>\n",
       "      <td>Tesla delivery estimates are at around 364k fr...</td>\n",
       "    </tr>\n",
       "    <tr>\n",
       "      <th>3</th>\n",
       "      <td>3/ Even if I include 63.0M unvested RSUs as of...</td>\n",
       "    </tr>\n",
       "    <tr>\n",
       "      <th>4</th>\n",
       "      <td>@RealDanODowd @WholeMarsBlog @Tesla Hahaha why...</td>\n",
       "    </tr>\n",
       "    <tr>\n",
       "      <th>5</th>\n",
       "      <td>@RealDanODowd @Tesla Stop trying to kill kids,...</td>\n",
       "    </tr>\n",
       "  </tbody>\n",
       "</table>\n",
       "</div>"
      ],
      "text/plain": [
       "                                               tweet\n",
       "1  Mainstream media has done an amazing job at br...\n",
       "2  Tesla delivery estimates are at around 364k fr...\n",
       "3  3/ Even if I include 63.0M unvested RSUs as of...\n",
       "4  @RealDanODowd @WholeMarsBlog @Tesla Hahaha why...\n",
       "5  @RealDanODowd @Tesla Stop trying to kill kids,..."
      ]
     },
     "execution_count": 142,
     "metadata": {},
     "output_type": "execute_result"
    }
   ],
   "source": [
    "## Con la función \"drop\" se eliminan elementos del data set.\n",
    "## En la lista \"delete_col\" añadimos los nombres de las columnas que deseamos eliminar. Posteriormente, se eliminan dichas \n",
    "## columnas con la función \"drop\", indicando axis=1, es decir, que los elementos a eliminar son columnas.\n",
    "\n",
    "delete_col=['date', 'stock_name', 'stock_company']\n",
    "tweet_col= tweet_prev.drop(delete_col, axis=1)\n",
    "\n",
    "## Por otro lado, se elimina la primera fila que contiene los anteriores nombres de las columnas del data set. Se elimina \n",
    "## indicando 0 (primer elemento) y el parámetro axis=0 (fila). \n",
    "tweet=tweet_col.drop(0, axis=0)\n",
    "\n",
    "print(tweet.shape)\n",
    "tweet.head(5)\n"
   ]
  },
  {
   "cell_type": "markdown",
   "metadata": {},
   "source": [
    "Se obtiene un data set con **80793 tweets** distintos, cada uno representado en una fila. "
   ]
  },
  {
   "cell_type": "markdown",
   "metadata": {},
   "source": [
    "#### Ejercicio 2. LIMPIEZA DEL TEXTO, ELIMINAR LAS PALABRAS QUE NO APORTAN INFORMACIÓN."
   ]
  },
  {
   "cell_type": "markdown",
   "metadata": {},
   "source": [
    "A continuación, procesamos el texto del tweet de forma que sea más fácil de codificar y analizar en pasos posteriores. Para ello, se crea la función `limpiar_texto`, que elimina elementos como menciones, hashtags, URLs y emoticonos; convierte el texto en minúscula; elimina las palabras poco informativas; y, además, realizará una lematización, es decir, transforma las palabras a su forma base.\n",
    "\n",
    "Se debe cargar previamente el paquete `nltk`, con una serie de módulos pertenecientes a este, y, además, del módulo `re` de Python; todos estos necesarios para generar la función."
   ]
  },
  {
   "cell_type": "code",
   "execution_count": 86,
   "metadata": {
    "jupyter": {
     "outputs_hidden": false
    }
   },
   "outputs": [],
   "source": [
    "import re\n",
    "import nltk\n",
    "from nltk.tokenize import TweetTokenizer\n",
    "from nltk.corpus import stopwords\n",
    "from nltk.stem import SnowballStemmer"
   ]
  },
  {
   "cell_type": "markdown",
   "metadata": {},
   "source": [
    "Se define la función, la cuál devolverá un data frame con el texto procesado."
   ]
  },
  {
   "cell_type": "code",
   "execution_count": 117,
   "metadata": {},
   "outputs": [],
   "source": [
    "## Recibe como entrada un conjunto de datos (data set).\n",
    "def limpiar_texto(data_set):\n",
    "    \n",
    "    ## En primer lugar, se cargan una serie de datos necesarios para el posterior procesamiento:\n",
    "    \n",
    "    # Se cargan los datos que hacen referencia a distintos emoticonos, utilizando \"re\", un módulo de la biblioteca de Pyhton. \n",
    "    # En concreto, con la funcion \"compile\" se almacena dicha información indicando el código Unicode del bloque de emoticonos\n",
    "    # correspondiente. El parámetro \"flags=re.UNICODE\" indica que la información añadida se lea según las reglas de Unicode, \n",
    "    # para que sean identificados como emoticonos.\n",
    "    patron_emoticonos = re.compile(\"[\"\n",
    "                            u\"\\U0001F600-\\U0001F64F\"  # Emoticonos generales\n",
    "                            u\"\\U0001F300-\\U0001F5FF\"  # Símbolos y pictogramas\n",
    "                            u\"\\U0001F680-\\U0001F6FF\"  # Transporte y mapas\n",
    "                            u\"\\U0001F780-\\U0001F7FF\"  # Formas geométricas extendidas\n",
    "                            u\"\\U0001F800-\\U0001F8FF\"  # Signos de puntuación\n",
    "                            u\"\\U00002702-\\U000027B0\"  # Símbolos diversos, como tijeras o meteorológicos\n",
    "                            u\"\\U000024C2-\\U0001F251\"  # Transporte, pictogramas y otros símbolos\n",
    "                            u\"\\U0001F900-\\U0001F9FF\"  # Emoticonos de personas y cuerpos\n",
    "                            u\"\\U0001FA00-\\U0001FA6F\"  # Símbolos de objetos\n",
    "                            u\"\\U0001FA70-\\U0001FAFF\"  # Símbolos de alimentos\n",
    "                            u\"\\U0001F1E6-\\U0001F1FF\"  # Banderas \n",
    "                            \"]+\", flags=re.UNICODE)\n",
    "    \n",
    "    # Se carga la información de \"TweetTokenize\" del paquete \"nltk\". \n",
    "    tokenizer=TweetTokenizer()\n",
    "    \n",
    "    # Se carga el conjunto de palabras \"stopwords\" del paquete nltk, estas son muy frecuentes en el lenguaje pero poco\n",
    "    # informativas. Se debe seleccionar el inglés como idioma.\n",
    "    nltk.download(\"stopwords\")\n",
    "    stopwords_english = stopwords.words(\"english\") \n",
    "    \n",
    "    # Se carga la información necesaria para la lematización mediante \"SnowballStemmer\" del paquete \"nltk\".\n",
    "    stemmer = SnowballStemmer(\"english\")\n",
    "    \n",
    "    ## Se inicia un diccionario que alamacenará los tweets procesados.\n",
    "    diccionario = {\"tweet\": []}\n",
    "    \n",
    "    ## Para cada valor de i dentro del rango (0, longitud del data set): \n",
    "    for i in range(0, len(data_set)):\n",
    "        \n",
    "        ## Extraemos la fila número i, al trabajar con data frame es necesario utilizar el atributo \"iloc\". Además, se debe\n",
    "        ## seleccionar la columna \"tweet\", para quedarnos sólo con el texto del tweet correspondiente.\n",
    "        tweet=data_set.iloc[i][\"tweet\"]\n",
    "        \n",
    "        ## Con la función \"sub\" del módulo \"re\" se eliminan una serie de elementos, indicados en el primer parámetro de la \n",
    "        ## función (r'elemento'). \n",
    "        \n",
    "        # Se eliminan los hashtags (#)\n",
    "        tweet = re.sub(r'#', '', tweet)\n",
    "        \n",
    "        # Se eliminan las menciones, las cuáles tienen la siguiente estructura: @usuario. Al añadir \\S+, se indica que también \n",
    "        # se elimina cualquier texto que esté inmediatamente después del elemento determinado, sin incluir espacios.\n",
    "        tweet = re.sub(r'@\\S+', '', tweet)\n",
    "        \n",
    "        # Se eliminan los URLs, que por lo general comienzan con http.\n",
    "        tweet = re.sub(r'http\\S+', '', tweet) \n",
    "        \n",
    "        # Se eliminan los emoticonos usando el conjunto de emoticonos anteriormente guardados.\n",
    "        tweet = patron_emoticonos.sub(r'',tweet)\n",
    "        \n",
    "        ## Se transforma todo el texto a minúscula.\n",
    "        tweet=tweet.lower()\n",
    "        \n",
    "        ## Posteriormente, se procesará el texto palabra por palabra. Para ello, en primer lugar, se debe tokenizar el texto, \n",
    "        ## es decir, separar las palabras en elementos de una lista. Se realiza mediante la función \"tokenize\".\n",
    "        tweet= tokenizer.tokenize(tweet)\n",
    "        \n",
    "        ## Se inicia una lista que contendrá las palabras procesadas del tweet.\n",
    "        list_tweet=[]\n",
    "\n",
    "        ## Para cada palabra:\n",
    "        for palabra in tweet:\n",
    "            ## Si la palabra NO está en el conjunto \"stopwords_english\", palabras con poco valor informativo:\n",
    "            if palabra not in stopwords_english:\n",
    "                ## Se transforma a su forma base con \"SnowballStemmer\", es decir, se lematiza.\n",
    "                palabra_proc = stemmer.stem(palabra)\n",
    "                ## La palabra ya procesada se añade a la lista anteriormente creada.\n",
    "                list_tweet.append(palabra_proc)\n",
    "        \n",
    "        ## Una vez procesadas las palabras del tweet, se vuelven a unir en la cadena que se inicia a continuación.\n",
    "        cadena_tweet=\"\"\n",
    "        \n",
    "        ## Para cada palabra:\n",
    "        for palabra in list_tweet:\n",
    "            ## Se añade cada palabra a la cadena separadas por espacios.\n",
    "            cadena_tweet+=\" \"\n",
    "            cadena_tweet+=palabra\n",
    "        \n",
    "        ## El tweet procesado se añade al diccionario    \n",
    "        diccionario[\"tweet\"].append(cadena_tweet)\n",
    "    \n",
    "    ## Se convierte el diccionario en un data set, mediante el paquete \"pandas\", y se devuelve.\n",
    "    data_set_proc=pandas.DataFrame(diccionario)\n",
    "    return data_set_proc"
   ]
  },
  {
   "cell_type": "markdown",
   "metadata": {},
   "source": [
    "Una vez generada la función, se aplica sobre el conjunto de datos a analizar."
   ]
  },
  {
   "cell_type": "code",
   "execution_count": 118,
   "metadata": {
    "scrolled": false
   },
   "outputs": [
    {
     "name": "stderr",
     "output_type": "stream",
     "text": [
      "[nltk_data] Downloading package stopwords to\n",
      "[nltk_data]     C:\\Users\\USUARIO\\AppData\\Roaming\\nltk_data...\n",
      "[nltk_data]   Package stopwords is already up-to-date!\n"
     ]
    },
    {
     "data": {
      "text/html": [
       "<div>\n",
       "<style scoped>\n",
       "    .dataframe tbody tr th:only-of-type {\n",
       "        vertical-align: middle;\n",
       "    }\n",
       "\n",
       "    .dataframe tbody tr th {\n",
       "        vertical-align: top;\n",
       "    }\n",
       "\n",
       "    .dataframe thead th {\n",
       "        text-align: right;\n",
       "    }\n",
       "</style>\n",
       "<table border=\"1\" class=\"dataframe\">\n",
       "  <thead>\n",
       "    <tr style=\"text-align: right;\">\n",
       "      <th></th>\n",
       "      <th>tweet</th>\n",
       "    </tr>\n",
       "  </thead>\n",
       "  <tbody>\n",
       "    <tr>\n",
       "      <th>0</th>\n",
       "      <td>mainstream media done amaz job brainwash peop...</td>\n",
       "    </tr>\n",
       "    <tr>\n",
       "      <th>1</th>\n",
       "      <td>tesla deliveri estim around 364k analyst . $ ...</td>\n",
       "    </tr>\n",
       "    <tr>\n",
       "      <th>2</th>\n",
       "      <td>3 / even includ 63.0 unvest rsus 6/30 , addit...</td>\n",
       "    </tr>\n",
       "    <tr>\n",
       "      <th>3</th>\n",
       "      <td>hahaha still tri stop tesla fsd bro ! get shi...</td>\n",
       "    </tr>\n",
       "    <tr>\n",
       "      <th>4</th>\n",
       "      <td>stop tri kill kid , sad derang old man</td>\n",
       "    </tr>\n",
       "  </tbody>\n",
       "</table>\n",
       "</div>"
      ],
      "text/plain": [
       "                                               tweet\n",
       "0   mainstream media done amaz job brainwash peop...\n",
       "1   tesla deliveri estim around 364k analyst . $ ...\n",
       "2   3 / even includ 63.0 unvest rsus 6/30 , addit...\n",
       "3   hahaha still tri stop tesla fsd bro ! get shi...\n",
       "4             stop tri kill kid , sad derang old man"
      ]
     },
     "execution_count": 118,
     "metadata": {},
     "output_type": "execute_result"
    }
   ],
   "source": [
    "tweet_limp=limpiar_texto(tweet)\n",
    "tweet_limp.head(5)"
   ]
  },
  {
   "cell_type": "markdown",
   "metadata": {},
   "source": [
    "Finalmente, se obtiene un data set con los tweets procesados, es decir, libres de emoticonos, de palabras pocas informativas y de otros elementos que no interesan a la hora de analizar el sentimiento de un tweet."
   ]
  },
  {
   "cell_type": "markdown",
   "metadata": {
    "jupyter": {
     "outputs_hidden": false
    }
   },
   "source": [
    "#### Ejercicio 3. ETIQUETADO DE DATOS CON HERRAMIENTAS YA EXISTENTES"
   ]
  },
  {
   "cell_type": "markdown",
   "metadata": {},
   "source": [
    "A continuación, se creará una función denominada `clasificador` con la cuál se asignará un sentimiento a cada tweet. Esta asignación se basará en el modelo **TextBlob**, ya existente. Este asocia una puntuación (polaridad) a un texto dado, desde -1 a 1. Una puntuación por debajo de 0, hace referencia a un texto con un sentimiento negativo y, superior a 0, con un sentimiento positivo. Debido a que el modelo a generar, debe clasificar los sentimientos de los tweets dentro de una serie de categorías específicas, se asignan los sentimientos siguiendo el siguiente criterio:\n",
    "\n",
    "- **\"Muy feliz\"**: polaridad = [-1,-0.5)\n",
    "\n",
    "- **\"Contento\"**: polaridad = [-0.5, 0)\n",
    "\n",
    "- **\"Neutro\"**: polaridad = 0\n",
    "\n",
    "- **\"Molesto\"**: polaridad = (0, 0.5]\n",
    "\n",
    "- **\"Hater\"**: polaridad = (0.5, 1]\n",
    "\n",
    "Para generar la función, se carga el paquete `textblob`."
   ]
  },
  {
   "cell_type": "code",
   "execution_count": 89,
   "metadata": {},
   "outputs": [],
   "source": [
    "from textblob import TextBlob"
   ]
  },
  {
   "cell_type": "markdown",
   "metadata": {},
   "source": [
    "Se crea la función, que generará un data frame dónde se asocie un sentimiento a cada tweet; además, dicho conjunto de datos se almacenará como un archivo `.csv`."
   ]
  },
  {
   "cell_type": "code",
   "execution_count": 139,
   "metadata": {},
   "outputs": [],
   "source": [
    "## Como entrada la función recibe un data set.\n",
    "def clasificador(data_set):\n",
    "    \n",
    "    ## Se inicia un diccionario vacio, para guardar, por un lado, el tweet y, por otro lado, el sentimiento asociado.\n",
    "    diccionario={\"tweet\":[], \"sentimiento\":[]}\n",
    "    \n",
    "    ## Para cada valor de i dentro del rango (0, longitud del data set): \n",
    "    for i in range(0, len(data_set)):\n",
    "        \n",
    "        ## Se extrae la fila número i y se selecciona la columna \"tweet\", para quedarnos sólo con el texto del tweet \n",
    "        ## correspondiente.\n",
    "        tweet=data_set.iloc[i][\"tweet\"]\n",
    "        \n",
    "        ## Se analiza el tweet según el modelo TextBlob.\n",
    "        text_blob=TextBlob(tweet)\n",
    "        \n",
    "        ## Se extrae el valor de polaridad que, siguiendo el criterio anteriormente marcado, está asociado a un sentimiento.\n",
    "        sentimiento_pol=text_blob.sentiment.polarity\n",
    "        if sentimiento_pol < (-0.5):\n",
    "            sentimiento=\"Hater\"\n",
    "        elif (-0.5) <= sentimiento_pol < (0):\n",
    "            sentimiento=\"Molesto\"\n",
    "        elif sentimiento_pol == 0:\n",
    "            sentimiento=\"Neutro\"\n",
    "        elif 0 < sentimiento_pol <= 0.5:\n",
    "            sentimiento=\"Contento\"\n",
    "        else:\n",
    "            sentimiento=\"Muy feliz\"\n",
    "        \n",
    "        ## El tweet se almacena en el diccionario.\n",
    "        diccionario[\"tweet\"].append(tweet)\n",
    "        \n",
    "        ## El sentimiento, guardado en una cadena de carácteres, se almacena en el diccionario, generando una lista de cadenas.\n",
    "        diccionario[\"sentimiento\"].append(sentimiento)\n",
    "    \n",
    "    ## El diccionario se convierte en un data set.\n",
    "    data_set_sent=pandas.DataFrame(diccionario)\n",
    "    \n",
    "    ## Se guarda el data frame como un archivo .csv con la función \"to_csv\" de \"pandas\".\n",
    "    data_set_sent.to_csv('tweets_sentimientos.csv')\n",
    "    \n",
    "    ## Se devuelve el data frame\n",
    "    return data_set_sent"
   ]
  },
  {
   "cell_type": "markdown",
   "metadata": {},
   "source": [
    "Se aplica dicha función generada al data set obtenido en el apartado anterior, con el texto procesado."
   ]
  },
  {
   "cell_type": "code",
   "execution_count": 140,
   "metadata": {},
   "outputs": [
    {
     "data": {
      "text/html": [
       "<div>\n",
       "<style scoped>\n",
       "    .dataframe tbody tr th:only-of-type {\n",
       "        vertical-align: middle;\n",
       "    }\n",
       "\n",
       "    .dataframe tbody tr th {\n",
       "        vertical-align: top;\n",
       "    }\n",
       "\n",
       "    .dataframe thead th {\n",
       "        text-align: right;\n",
       "    }\n",
       "</style>\n",
       "<table border=\"1\" class=\"dataframe\">\n",
       "  <thead>\n",
       "    <tr style=\"text-align: right;\">\n",
       "      <th></th>\n",
       "      <th>tweet</th>\n",
       "      <th>sentimiento</th>\n",
       "    </tr>\n",
       "  </thead>\n",
       "  <tbody>\n",
       "    <tr>\n",
       "      <th>0</th>\n",
       "      <td>mainstream media done amaz job brainwash peop...</td>\n",
       "      <td>Neutro</td>\n",
       "    </tr>\n",
       "    <tr>\n",
       "      <th>1</th>\n",
       "      <td>tesla deliveri estim around 364k analyst . $ ...</td>\n",
       "      <td>Neutro</td>\n",
       "    </tr>\n",
       "    <tr>\n",
       "      <th>2</th>\n",
       "      <td>3 / even includ 63.0 unvest rsus 6/30 , addit...</td>\n",
       "      <td>Contento</td>\n",
       "    </tr>\n",
       "    <tr>\n",
       "      <th>3</th>\n",
       "      <td>hahaha still tri stop tesla fsd bro ! get shi...</td>\n",
       "      <td>Contento</td>\n",
       "    </tr>\n",
       "    <tr>\n",
       "      <th>4</th>\n",
       "      <td>stop tri kill kid , sad derang old man</td>\n",
       "      <td>Molesto</td>\n",
       "    </tr>\n",
       "  </tbody>\n",
       "</table>\n",
       "</div>"
      ],
      "text/plain": [
       "                                               tweet sentimiento\n",
       "0   mainstream media done amaz job brainwash peop...      Neutro\n",
       "1   tesla deliveri estim around 364k analyst . $ ...      Neutro\n",
       "2   3 / even includ 63.0 unvest rsus 6/30 , addit...    Contento\n",
       "3   hahaha still tri stop tesla fsd bro ! get shi...    Contento\n",
       "4             stop tri kill kid , sad derang old man     Molesto"
      ]
     },
     "execution_count": 140,
     "metadata": {},
     "output_type": "execute_result"
    }
   ],
   "source": [
    "tweet_sent=clasificador(tweet_limp)\n",
    "tweet_sent.head(5)"
   ]
  },
  {
   "cell_type": "markdown",
   "metadata": {},
   "source": [
    "De esta forma, se obtiene un data set con dos columnas, una con los tweets limpios y otra con el sentimiento asociado a dicho tweet, según el modelo de TextoBlob. "
   ]
  },
  {
   "cell_type": "markdown",
   "metadata": {},
   "source": [
    "#### Ejercicio 4. CODIFICACIÓN DE LOS ATRIBUTOS Y OBJETIVOS."
   ]
  },
  {
   "cell_type": "markdown",
   "metadata": {},
   "source": [
    "Para realizar un modelo de aprendizaje automático es necesario definir los **atributos**, conjunto de datos de entrada sobre los cuáles se harán las predicciones, y los **objetivos**, que serán dichas predicciones o características asociadas. En este caso, los atributos serán el texto procesado de los distintos tweets y los objetivos serán los sentimientos que estos transmiten. \n",
    "\n",
    "Para definir el modelo se debe codificar los atributos, el texto, a lenguaje numérico. Para ello existen múltiples codificadores con distintas características. Por ejemplo, se tiene el codificador `CountVectorizer`, el cuál se basa en realizar recuentos de las distintas palabras, sin tener en cuenta la semántica o la posición de estas. Por esa razón, se buscó otras opciones más apropiadas para analizar tweets, dónde el contexto de las palabras es importante. Se estudiará el codificador `Word2Vec`, el cuál sí que tiene en cuenta la relación entre las palabras, esto es útil, por ejemplo, para poder procesar expresiones o frases hechas. Este modelo asignará a cada palabra un vector con unas dimensiones determinadas. El modelo se basa en que las palabras que se parecen semanticamente, estarán representadas por vectores cercanos en el espacio. \n",
    "\n",
    "\n",
    "Desde el paquete `gensim` se carga `Word2Vec`, necesario para la codificación. "
   ]
  },
  {
   "cell_type": "code",
   "execution_count": 92,
   "metadata": {},
   "outputs": [],
   "source": [
    "from gensim.models import Word2Vec"
   ]
  },
  {
   "cell_type": "markdown",
   "metadata": {},
   "source": [
    "Por otro lado, los objetivos también deben ser codificados. Se asignará un número a cada sentimiento, siguiendo el siguiente criterio: \n",
    "\n",
    "- \"Muy feliz\": 4\n",
    "- \"Contento\": 3\n",
    "- \"Neutro\": 2\n",
    "- \"Molesto\": 1\n",
    "- \"Hater\": 0\n",
    "\n",
    "Se crea la función `codificador`, mediante la cuál se realizará la codificación de los atributos, utilizando **Word2Vec**, y los atributos. Esta función espera recibir como entrada un conjunto de datos que contenga una columna llamada \"tweet\" con los tweets que se desean codificar. Opcionalmente, el conjunto de datos puede incluir una segunda columna llamada \"sentimiento\" que contenga los sentimientos asociados a esos tweets; de esta forma, también se podrán codificar aquellos data set de prueba que sólo contengan los atributos, como se hará en el último apartado. "
   ]
  },
  {
   "cell_type": "code",
   "execution_count": 93,
   "metadata": {},
   "outputs": [],
   "source": [
    "## Recibe como entrada un data set.\n",
    "def codificador_wv (data_set):\n",
    "    ## Se obtiene la lista de tweets procesados.\n",
    "    tweets=data_set[\"tweet\"]\n",
    "\n",
    "    ## Este codificador necesita que el texto este tokenizado, es decir, que cada palabra sea un elemento de una lista. Esto se \n",
    "    ## aplica para cada tweet, mediante la función \"TweetTokenizer\" del paquete \"nltk\", y , posteriormente, los tweets \n",
    "    ## tokenizados se almacenan en una lista.\n",
    "    tokens_list=[]\n",
    "    tokenizer=TweetTokenizer()\n",
    "    for tweet in tweets:\n",
    "        tokens= tokenizer.tokenize(tweet)\n",
    "        tokens_list.append(tokens)\n",
    "\n",
    "    ## Se entrena el modelo de codificación Word2Vec, utilizando la lista de tokens previamente generada. El parámetro \n",
    "    ## \"vector_size\" indica el número de dimensiones que posee el vector que representa cada palabra; por otro lado, \"windows\" \n",
    "    ## indica el número de palabras a cada lado de la analizada que se consideran para entender el contexto; y \"min_count\" \n",
    "    ## indica el número de veces que dicha palabra debe aparecer en el conjunto de datos para formar parte del modelo. Estos \n",
    "    ## parámetros han sido ajustados para obtener un mejor funcionamiento del modelo.\n",
    "    model = Word2Vec(tokens_list, vector_size=100, window=5, min_count=2)\n",
    "    \n",
    "    ## Se inicia un diccionario que contendrá la codificación de los atributos.\n",
    "    atributo={\"tweet_vector\":[]}\n",
    "\n",
    "    ## Si el data set presenta una columna con los sentimientos:\n",
    "    if \"sentimiento\" in data_set.columns:\n",
    "        ## Se extraen los sentimientos de la columna respectiva y se inicia una lista, denominada objetivo, que contendrá sólo \n",
    "        ## los sentimientos de los tweets tenidos en cuenta en el modelo. \n",
    "        sentimiento=data_set[\"sentimiento\"]\n",
    "        objetivo=[]\n",
    "\n",
    "    ## Para i en un rango (0, cantidad de tweets):\n",
    "    for i in range(0, len(tokens_list)):\n",
    "        ## Se extrae el tweet tokenizado número i.\n",
    "        tweet=tokens_list[i]\n",
    "        ## Si el data set presenta la columna \"sentimientos\":\n",
    "        if \"sentimiento\" in data_set.columns:\n",
    "            ## Se extrae el sentimiento correspondiente:\n",
    "            sent=sentimiento[i]\n",
    "        ## Se inicia una lista donde se almacenará la codificación de cada tweet.\n",
    "        lista=[]\n",
    "        ## Para cada palabra de dicho tweet:\n",
    "        for palabra in tweet:\n",
    "            ## Si la palabra está presente en el modelo previamente generado:\n",
    "            if palabra in model.wv:\n",
    "                ## Se realiza la codificación de dicha palabra, generando un vector que se añade a la lista anteriormente creada.\n",
    "                codificacion = model.wv[palabra]\n",
    "                lista.append(codificacion)\n",
    "        ## Si la lista no está vacia, es decir, al menos una palabra del tweet está presente en el modelo:\n",
    "        if lista:\n",
    "            ## Se calcula el promedio de todos los vectores para tener una representación única del tweet.\n",
    "            media_vector=sum(lista)/len(lista)      \n",
    "            ## Dicha media se añade al diccionario \"atributos\".\n",
    "            atributo[\"tweet_vector\"].append(media_vector)\n",
    "            ## Por otro lado, si existe columna de sentimientos:\n",
    "            if \"sentimiento\" in data_set.columns:\n",
    "                ## Dependiendo del sentimiento se añade el número correspondiente a la lista de ojetivo, según el criterio \n",
    "                ## marcado.\n",
    "                if sent==\"Muy feliz\":\n",
    "                    objetivo.append(4)\n",
    "                elif sent==\"Contento\":\n",
    "                    objetivo.append(3)\n",
    "                elif sent==\"Neutro\":\n",
    "                    objetivo.append(2)\n",
    "                elif sent==\"Molesto\":\n",
    "                    objetivo.append(1)\n",
    "                elif sent==\"Hater\":\n",
    "                    objetivo.append(0)\n",
    "                    \n",
    "    ## El diccionario se convierte en un data set.\n",
    "    atributo=pandas.DataFrame(atributo)\n",
    "    \n",
    "    ## Si el data set presentan los datos de los sentimientos:\n",
    "    if \"sentimiento\" in data_set.columns:\n",
    "        ## Devuelve los atributos y objetivos.\n",
    "        return [atributo, objetivo]\n",
    "    ## Sino:\n",
    "    else:\n",
    "        ## Devuelve sólo el atributo.\n",
    "        return atributo"
   ]
  },
  {
   "cell_type": "markdown",
   "metadata": {},
   "source": [
    "Se codifica el data set `tweet_sent` generado en el apartado anterior. Este presenta tanto la columna de tweets como de sentimientos. "
   ]
  },
  {
   "cell_type": "code",
   "execution_count": 120,
   "metadata": {},
   "outputs": [
    {
     "data": {
      "text/html": [
       "<div>\n",
       "<style scoped>\n",
       "    .dataframe tbody tr th:only-of-type {\n",
       "        vertical-align: middle;\n",
       "    }\n",
       "\n",
       "    .dataframe tbody tr th {\n",
       "        vertical-align: top;\n",
       "    }\n",
       "\n",
       "    .dataframe thead th {\n",
       "        text-align: right;\n",
       "    }\n",
       "</style>\n",
       "<table border=\"1\" class=\"dataframe\">\n",
       "  <thead>\n",
       "    <tr style=\"text-align: right;\">\n",
       "      <th></th>\n",
       "      <th>tweet_vector</th>\n",
       "    </tr>\n",
       "  </thead>\n",
       "  <tbody>\n",
       "    <tr>\n",
       "      <th>0</th>\n",
       "      <td>[0.0838585, 0.031534, 0.82119775, -0.98469764,...</td>\n",
       "    </tr>\n",
       "    <tr>\n",
       "      <th>1</th>\n",
       "      <td>[-0.38835323, -0.068814725, 0.8942694, -0.8001...</td>\n",
       "    </tr>\n",
       "    <tr>\n",
       "      <th>2</th>\n",
       "      <td>[-0.7181831, -0.15330556, 0.9283266, -0.389058...</td>\n",
       "    </tr>\n",
       "    <tr>\n",
       "      <th>3</th>\n",
       "      <td>[0.14392011, -0.10725433, 0.61305517, -1.16989...</td>\n",
       "    </tr>\n",
       "    <tr>\n",
       "      <th>4</th>\n",
       "      <td>[0.13660878, 0.2655791, 0.46637923, -1.0423687...</td>\n",
       "    </tr>\n",
       "  </tbody>\n",
       "</table>\n",
       "</div>"
      ],
      "text/plain": [
       "                                        tweet_vector\n",
       "0  [0.0838585, 0.031534, 0.82119775, -0.98469764,...\n",
       "1  [-0.38835323, -0.068814725, 0.8942694, -0.8001...\n",
       "2  [-0.7181831, -0.15330556, 0.9283266, -0.389058...\n",
       "3  [0.14392011, -0.10725433, 0.61305517, -1.16989...\n",
       "4  [0.13660878, 0.2655791, 0.46637923, -1.0423687..."
      ]
     },
     "execution_count": 120,
     "metadata": {},
     "output_type": "execute_result"
    }
   ],
   "source": [
    "## El data set es procesado por la función \"codificador\" y se extraen los atributos y objetivos.\n",
    "resultado = codificador_wv(tweet_sent)\n",
    "atributo=resultado[0]\n",
    "objetivo=resultado[1]\n",
    "atributo.head(5)"
   ]
  },
  {
   "cell_type": "markdown",
   "metadata": {},
   "source": [
    "En el data set `atributo` cada tweet, está representado por un vector. Como se ha mencionado anteriormente, este vector es la media de los correspondientes a cada palabra; esto es necesario para que sea compatible con el algoritmo que se usará para generar el modelo. "
   ]
  },
  {
   "cell_type": "code",
   "execution_count": 144,
   "metadata": {},
   "outputs": [
    {
     "data": {
      "text/plain": [
       "[2, 2, 3, 3, 1]"
      ]
     },
     "execution_count": 144,
     "metadata": {},
     "output_type": "execute_result"
    }
   ],
   "source": [
    "objetivo[0:5]"
   ]
  },
  {
   "cell_type": "markdown",
   "metadata": {},
   "source": [
    "La lista `objetivo` almacena los sentimientos codificados numéricamente.\n",
    "\n",
    "Una vez los atributos y objetivos han sido codificados, se dividen los tweets en aquellos que serán usados en el **entrenamiento del modelo** y los que serán utilizados en una **prueba de precisión**. Para ello, se usa la función `train_test_split` del paquete `scikit-learn`, cargada a continuación."
   ]
  },
  {
   "cell_type": "code",
   "execution_count": 95,
   "metadata": {},
   "outputs": [],
   "source": [
    "from sklearn.model_selection import train_test_split"
   ]
  },
  {
   "cell_type": "markdown",
   "metadata": {},
   "source": [
    "Para dividir el conjunto de entrenamiento y el de prueba, se deben incluir los siguientes parámetros: \n",
    "\n",
    "- `random_state`: es una especie de código numérico, que garantiza que cada vez que pongas el mismo número, se producirá la misma división. \n",
    "\n",
    "- `test_size`: porcentaje del conjunto de prueba en comparación con el conjunto de entrenamiento. En este caso, el 20% de los datos serán para la prueba.\n",
    "\n",
    "- `stratify`: necesario para asegurar que la proporción de objetivos presentes en el conjunto de prueba sea el mismo que el conjunto total."
   ]
  },
  {
   "cell_type": "code",
   "execution_count": 121,
   "metadata": {},
   "outputs": [],
   "source": [
    "## Se dividen los atributos y los objetivos, en conjuntos de prueba y entrenamiento.\n",
    "(atributos_entrenamiento, atributos_prueba,\n",
    " objetivo_entrenamiento, objetivo_prueba) = train_test_split(\n",
    "       atributo, objetivo,\n",
    "       random_state=12345,\n",
    "       test_size=.2,\n",
    "       stratify=objetivo)"
   ]
  },
  {
   "cell_type": "markdown",
   "metadata": {},
   "source": [
    "#### Ejercicio 5: ENTRENAMIENTO DEL MODELO\n",
    "\n",
    "Después de codificar los atributos y separar el conjunto de datos para el entrenamieto y la prueba, se genera el modelo. Para ello, se realiza el entrenamiento, que implica proporcionar un conjunto de atributos junto con sus objetivos correspondientes. De este modo, el modelo se ajusta y será capaz de generalizar a partir de estos datos específicos, pudiendo predecir los objetivos de otros atributos. \n",
    "\n",
    "Al estar trabajando con texto codificado como vectores, generado mediante `Word2Vec` se necesita crear un modelo compatible, concretamente, se eligió **Random Forest**. Este algoritmo, en realidad, está formado por un conjunto de modelos individuales que se combinan para obtener un modelo más preciso; lo que supone una ventaja extra. \n",
    "\n",
    "Para ello, se importa `RandomForestClassifier` del módulo `ensemble` del paquete `scikit-learn`, anteriormente también utilizado para la codificación. Además, se carga el paquete `numpy`, utilizado para calcular la predicción del modelo."
   ]
  },
  {
   "cell_type": "code",
   "execution_count": 97,
   "metadata": {},
   "outputs": [],
   "source": [
    "from sklearn.ensemble import RandomForestClassifier\n",
    "import numpy"
   ]
  },
  {
   "cell_type": "markdown",
   "metadata": {},
   "source": [
    "A conituación, se genera el modelo usando Random Forest y los conjuntos de entrenamiento anteriormente extraidos."
   ]
  },
  {
   "cell_type": "code",
   "execution_count": 122,
   "metadata": {},
   "outputs": [
    {
     "name": "stdout",
     "output_type": "stream",
     "text": [
      "La precisión del modelo es 70.12327324536952\n"
     ]
    }
   ],
   "source": [
    "## Se entrena el modelo Random Forest, con RandomForestClassifier y su función \"fit\".\n",
    "random_forest = RandomForestClassifier()\n",
    "\n",
    "## Como el conjunto de atributos de entrenamiento es un data frame, es necesario indicar la columna que se desea analizar.\n",
    "random_forest.fit(list(atributos_entrenamiento[\"tweet_vector\"]), objetivo_entrenamiento)\n",
    "\n",
    "## Una vez generado el modelo se obtienen las predicciones del conjunto de prueba; usando la función \"predict\".\n",
    "predicciones_rf = random_forest.predict(list(atributos_prueba[\"tweet_vector\"]))\n",
    "\n",
    "## Se calcula la precisión del modelo. Para ello, se cuenta el número de veces que las predicciones generadas son equivalentes \n",
    "## a los objetivos reales y se normaliza, usando el paquete numpy.\n",
    "precision_rf = numpy.mean(predicciones_rf == objetivo_prueba)\n",
    "print(\"La precisión del modelo es\", precision_rf * 100)"
   ]
  },
  {
   "cell_type": "markdown",
   "metadata": {},
   "source": [
    "A partir del data set procesado y limpio, usando Word2Vec como codificador y Random Forest, se ha conseguido obtener un modelo con un **70.12% de precisión**. Para aumentar este valor, se podría entrenar el modelo con un conjunto de datos más grande y variado. \n",
    "\n",
    "Por otro lado, se quiso comparar la eficiencia de este modelo con otro generado con **Naive Bayes**. Este es un algoritmo de aprendizaje basado en el teorema de Bayes, utiliza las probabilidades para realizar la clasificación del texto. Este modelo espera recibir como entrada datos unidimensionales, por tanto, no se puede usar los atributos codificados con Word2Vec, ya que los datos se han expresado como vectores de 100 dimensiones. Por esta razón, se usará **CountVectorizer** para codificar el texto, el cuál generará una matriz de recuento de términos que será compatible con el modelo Naive Bayes. \n",
    "\n",
    "Se importa `CountVectorizer` del paquete `scikit-learn`.\n"
   ]
  },
  {
   "cell_type": "code",
   "execution_count": 123,
   "metadata": {},
   "outputs": [],
   "source": [
    "from sklearn.feature_extraction.text import CountVectorizer"
   ]
  },
  {
   "cell_type": "markdown",
   "metadata": {},
   "source": [
    "A continuación, se codifican los atributos con `CountVectorizer` y, tal y como se hizo anteriormente, se generan el conjunto de entrenamiento y el de prueba, mediante la función `train_test_split`. "
   ]
  },
  {
   "cell_type": "code",
   "execution_count": 124,
   "metadata": {},
   "outputs": [],
   "source": [
    "## Se extraen los atributos y los objetivos del data frame \"tweet_sent\".\n",
    "atributos_prev=tweet_sent[\"tweet\"]\n",
    "objetivo_prev=tweet_sent[\"sentimiento\"]\n",
    "\n",
    "## Se codifican dichos atributos con la función \"fit_transform\" de \"CountVectorizer\".\n",
    "vectorizer = CountVectorizer()\n",
    "atributos_1 = vectorizer.fit_transform(atributos_prev)\n",
    "\n",
    "## Se codifican los objetivos, según el código numérico anteriormente también aplicado.\n",
    "objetivo_1=[]\n",
    "for sent in objetivo_prev:\n",
    "    if sent==\"Muy feliz\":\n",
    "        objetivo_1.append(4)\n",
    "    elif sent==\"Contento\":\n",
    "        objetivo_1.append(3)\n",
    "    elif sent==\"Neutro\":\n",
    "        objetivo_1.append(2)\n",
    "    elif sent==\"Molesto\":\n",
    "        objetivo_1.append(1)\n",
    "    elif sent==\"Hater\":\n",
    "        objetivo_1.append(0)\n",
    "\n",
    "## Con la función \"train_test_split\" y los parámetros anteriormente también utilizados, se genera el conjunto de prueba y el de \n",
    "## entrenamiento.  \n",
    "(atributos_entrenamiento_1, atributos_prueba_1,\n",
    " objetivo_entrenamiento_1, objetivo_prueba_1) = train_test_split(\n",
    "        atributos_1, objetivo_1,\n",
    "        random_state=12345,\n",
    "        test_size=.2,\n",
    "        stratify=objetivo_1)"
   ]
  },
  {
   "cell_type": "markdown",
   "metadata": {},
   "source": [
    "Una vez codificado los atributos y separado el conjunto de entrenamiento del de prueba, se genera el modelo con Naive Bayes. Para ello, se carga la instancia `MultinomialNB`, de nuevo del paquete `scikit-learn`."
   ]
  },
  {
   "cell_type": "code",
   "execution_count": 101,
   "metadata": {},
   "outputs": [],
   "source": [
    "from sklearn.naive_bayes import MultinomialNB"
   ]
  },
  {
   "cell_type": "markdown",
   "metadata": {},
   "source": [
    "Finalmente, se entrena el modelo de Naive Bayes y se calcula la precisión de este."
   ]
  },
  {
   "cell_type": "code",
   "execution_count": 125,
   "metadata": {
    "scrolled": true
   },
   "outputs": [
    {
     "name": "stdout",
     "output_type": "stream",
     "text": [
      "La precisión del modelo desarrollado es 74.5466922458073\n"
     ]
    }
   ],
   "source": [
    "## Se entrena usando \"MultinomialNB\", la función \"fit\" y el conjunto de entrenamiento.\n",
    "naive_bayes = MultinomialNB(alpha=1.0)  \n",
    "naive_bayes.fit(atributos_entrenamiento_1, objetivo_entrenamiento_1)\n",
    "\n",
    "## Se calcula la precisión del modelo con la función \"score\".\n",
    "precision = naive_bayes.score(atributos_prueba_1, objetivo_prueba_1)\n",
    "print(\"La precisión del modelo desarrollado es\", precision*100)"
   ]
  },
  {
   "cell_type": "markdown",
   "metadata": {},
   "source": [
    "Partiendo del mismo data set usado para el anterior modelo, pero esta vez utilizando CountVectorizer como codificador y Naive Bayes para realizar el modelo, se obtiene una precisión superior, en concreto un **74.55%**. Según las ventajas explicadas anteriormente, se esperaba que el modelo generado con Word2Vec y Random Forest tuviera una precisión mayor. Estas ventajas radican en que el codificador Word2Vec es capaz de analizar el contexto de las palabras, a diferencia de CountVectorizer, y, por otro lado, el algoritmo Random Forest está formado por múltiples modelos. Sin embargo, como resultado se obtiene que el modelo generado con Naive Bayes tiene una precisión superior. Esto puede deberse a simplificaciones de la codificación con Word2Vec, dónde se realizó la media de los vectores correspondientes a cada palabra, o que el codificador CountVectorizer funcione mejor de lo esperado. "
   ]
  },
  {
   "cell_type": "markdown",
   "metadata": {},
   "source": [
    "#### Ejercicio 6: USAR EL MODELO ENTRENADO\n",
    "\n",
    "En este último apartado, se usarán los modelos generados para predecir los sentimientos de los tweets de dos cuentas distintas. Los tweets de ambas cuentas serán las últimas 30 publicaciones y se han obtenido de forma manual. Por un lado, se analiza la cuenta de **@StuartHepburn_**, el cuál publica críticas, múltiples veces con insultos, sobre temas polémicos. Se espera que la mayoría de sus tweets tengan asociado un sentimiento negativo. \n",
    "\n",
    "Se leen los tweets de esta primera cuenta, almacenados en `hater.csv`."
   ]
  },
  {
   "cell_type": "code",
   "execution_count": 126,
   "metadata": {},
   "outputs": [
    {
     "data": {
      "text/html": [
       "<div>\n",
       "<style scoped>\n",
       "    .dataframe tbody tr th:only-of-type {\n",
       "        vertical-align: middle;\n",
       "    }\n",
       "\n",
       "    .dataframe tbody tr th {\n",
       "        vertical-align: top;\n",
       "    }\n",
       "\n",
       "    .dataframe thead th {\n",
       "        text-align: right;\n",
       "    }\n",
       "</style>\n",
       "<table border=\"1\" class=\"dataframe\">\n",
       "  <thead>\n",
       "    <tr style=\"text-align: right;\">\n",
       "      <th></th>\n",
       "      <th>tweet</th>\n",
       "      <th>None</th>\n",
       "    </tr>\n",
       "  </thead>\n",
       "  <tbody>\n",
       "    <tr>\n",
       "      <th>0</th>\n",
       "      <td>THEY WANT DIGITAL MONEY AND ID FOR MEANS OF NO...</td>\n",
       "      <td>NaN</td>\n",
       "    </tr>\n",
       "    <tr>\n",
       "      <th>1</th>\n",
       "      <td>THEY DESTROYING THROUGH THE WEF EU ECHR CULT I...</td>\n",
       "      <td>NaN</td>\n",
       "    </tr>\n",
       "    <tr>\n",
       "      <th>2</th>\n",
       "      <td>LABOUR LIARS COUNCILS ARE WHAT? THEY COULDN'T ...</td>\n",
       "      <td>NaN</td>\n",
       "    </tr>\n",
       "    <tr>\n",
       "      <th>3</th>\n",
       "      <td>AA president smug owning a ev world of dunce f...</td>\n",
       "      <td></td>\n",
       "    </tr>\n",
       "    <tr>\n",
       "      <th>4</th>\n",
       "      <td>WEF ARE ALL FULL OF IT GET RID OF THEM...</td>\n",
       "      <td>NaN</td>\n",
       "    </tr>\n",
       "  </tbody>\n",
       "</table>\n",
       "</div>"
      ],
      "text/plain": [
       "                                               tweet None\n",
       "0  THEY WANT DIGITAL MONEY AND ID FOR MEANS OF NO...  NaN\n",
       "1  THEY DESTROYING THROUGH THE WEF EU ECHR CULT I...  NaN\n",
       "2  LABOUR LIARS COUNCILS ARE WHAT? THEY COULDN'T ...  NaN\n",
       "3  AA president smug owning a ev world of dunce f...     \n",
       "4          WEF ARE ALL FULL OF IT GET RID OF THEM...  NaN"
      ]
     },
     "execution_count": 126,
     "metadata": {},
     "output_type": "execute_result"
    }
   ],
   "source": [
    "hater_prev = pandas.read_csv('hater.csv', header=None, names=[\"tweet\", \"None\"])\n",
    "hater_prev.head(5)"
   ]
  },
  {
   "cell_type": "markdown",
   "metadata": {},
   "source": [
    "Se observa que se han leido correctamente; sin embargo, existe una columna vacía que no interesa. Por ello, se elimina con la función `drop`. Por otro lado, el texto es procesado con la función `limpiar_texto`, tal y como se hizo con los tweets de entrenamiento. Esta función filtra el texto para obtener las palabras más relevantes en su forma base."
   ]
  },
  {
   "cell_type": "code",
   "execution_count": 145,
   "metadata": {},
   "outputs": [
    {
     "name": "stderr",
     "output_type": "stream",
     "text": [
      "[nltk_data] Downloading package stopwords to\n",
      "[nltk_data]     C:\\Users\\USUARIO\\AppData\\Roaming\\nltk_data...\n",
      "[nltk_data]   Package stopwords is already up-to-date!\n"
     ]
    },
    {
     "data": {
      "text/html": [
       "<div>\n",
       "<style scoped>\n",
       "    .dataframe tbody tr th:only-of-type {\n",
       "        vertical-align: middle;\n",
       "    }\n",
       "\n",
       "    .dataframe tbody tr th {\n",
       "        vertical-align: top;\n",
       "    }\n",
       "\n",
       "    .dataframe thead th {\n",
       "        text-align: right;\n",
       "    }\n",
       "</style>\n",
       "<table border=\"1\" class=\"dataframe\">\n",
       "  <thead>\n",
       "    <tr style=\"text-align: right;\">\n",
       "      <th></th>\n",
       "      <th>tweet</th>\n",
       "    </tr>\n",
       "  </thead>\n",
       "  <tbody>\n",
       "    <tr>\n",
       "      <th>0</th>\n",
       "      <td>want digit money id mean one conflict global ...</td>\n",
       "    </tr>\n",
       "    <tr>\n",
       "      <th>1</th>\n",
       "      <td>destroy wef eu echr cult care let liar escap ...</td>\n",
       "    </tr>\n",
       "    <tr>\n",
       "      <th>2</th>\n",
       "      <td>labour liar council ? give fli fuck high moun...</td>\n",
       "    </tr>\n",
       "    <tr>\n",
       "      <th>3</th>\n",
       "      <td>aa presid smug own ev world dunc fooler think...</td>\n",
       "    </tr>\n",
       "    <tr>\n",
       "      <th>4</th>\n",
       "      <td>wef full get rid ...</td>\n",
       "    </tr>\n",
       "  </tbody>\n",
       "</table>\n",
       "</div>"
      ],
      "text/plain": [
       "                                               tweet\n",
       "0   want digit money id mean one conflict global ...\n",
       "1   destroy wef eu echr cult care let liar escap ...\n",
       "2   labour liar council ? give fli fuck high moun...\n",
       "3   aa presid smug own ev world dunc fooler think...\n",
       "4                               wef full get rid ..."
      ]
     },
     "execution_count": 145,
     "metadata": {},
     "output_type": "execute_result"
    }
   ],
   "source": [
    "## Se elimina la columna no deseada.\n",
    "hater=hater_prev.drop(\"None\", axis=1)\n",
    "\n",
    "## Se limpiar y procesa el texto.\n",
    "hater=limpiar_texto(hater)\n",
    "\n",
    "hater.head(5)"
   ]
  },
  {
   "cell_type": "markdown",
   "metadata": {},
   "source": [
    "En primer lugar, se aplicará el modelo **Random Forest**, para ello los tweets deben ser codificados con **Word2Vec** usando la función `codificador_wv` anteriormente generada. En este caso, el data set no presenta la columna de sentimientos; por ello, la función omitirá todos los pasos respectivo a esta. "
   ]
  },
  {
   "cell_type": "code",
   "execution_count": 128,
   "metadata": {},
   "outputs": [
    {
     "data": {
      "text/html": [
       "<div>\n",
       "<style scoped>\n",
       "    .dataframe tbody tr th:only-of-type {\n",
       "        vertical-align: middle;\n",
       "    }\n",
       "\n",
       "    .dataframe tbody tr th {\n",
       "        vertical-align: top;\n",
       "    }\n",
       "\n",
       "    .dataframe thead th {\n",
       "        text-align: right;\n",
       "    }\n",
       "</style>\n",
       "<table border=\"1\" class=\"dataframe\">\n",
       "  <thead>\n",
       "    <tr style=\"text-align: right;\">\n",
       "      <th></th>\n",
       "      <th>tweet_vector</th>\n",
       "    </tr>\n",
       "  </thead>\n",
       "  <tbody>\n",
       "    <tr>\n",
       "      <th>0</th>\n",
       "      <td>[0.0017990655, 0.0010493507, -0.0004902189, -0...</td>\n",
       "    </tr>\n",
       "    <tr>\n",
       "      <th>1</th>\n",
       "      <td>[-0.0019282653, -0.0018274748, -9.867276e-05, ...</td>\n",
       "    </tr>\n",
       "    <tr>\n",
       "      <th>2</th>\n",
       "      <td>[-0.0033038824, -0.0005886318, -0.0026930373, ...</td>\n",
       "    </tr>\n",
       "    <tr>\n",
       "      <th>3</th>\n",
       "      <td>[-0.001570412, -0.0010317536, -0.0041994182, 0...</td>\n",
       "    </tr>\n",
       "    <tr>\n",
       "      <th>4</th>\n",
       "      <td>[-0.0013784859, 0.0046687364, 0.0009116498, -0...</td>\n",
       "    </tr>\n",
       "  </tbody>\n",
       "</table>\n",
       "</div>"
      ],
      "text/plain": [
       "                                        tweet_vector\n",
       "0  [0.0017990655, 0.0010493507, -0.0004902189, -0...\n",
       "1  [-0.0019282653, -0.0018274748, -9.867276e-05, ...\n",
       "2  [-0.0033038824, -0.0005886318, -0.0026930373, ...\n",
       "3  [-0.001570412, -0.0010317536, -0.0041994182, 0...\n",
       "4  [-0.0013784859, 0.0046687364, 0.0009116498, -0..."
      ]
     },
     "execution_count": 128,
     "metadata": {},
     "output_type": "execute_result"
    }
   ],
   "source": [
    "atributo_hater = codificador_wv(hater)\n",
    "atributo_hater.head(5)"
   ]
  },
  {
   "cell_type": "markdown",
   "metadata": {},
   "source": [
    "Una vez codificado los tweets correctamente, se predicen los sentimientos de estos con la función `predict`, según el modelo generado anteriormente y guardado bajo la variable `random_forest`. "
   ]
  },
  {
   "cell_type": "code",
   "execution_count": 147,
   "metadata": {},
   "outputs": [
    {
     "data": {
      "text/plain": [
       "array([2, 2, 2, 2, 2])"
      ]
     },
     "execution_count": 147,
     "metadata": {},
     "output_type": "execute_result"
    }
   ],
   "source": [
    "## Se predicen los sentimientos, los atributos codificados deben ser otorgados como una lista.\n",
    "predicciones_hater = random_forest.predict(list(atributo_hater[\"tweet_vector\"]))\n",
    "predicciones_hater[:5]"
   ]
  },
  {
   "cell_type": "markdown",
   "metadata": {},
   "source": [
    "Se observa que este modelo ha asociado el sentimiento \"neutro\" (2) a todos los tweets. A pesar de ser un resultado uniforme, se representa mediante un pie chart, utilizando `pyplot`del paquete `matplotlib`. "
   ]
  },
  {
   "cell_type": "code",
   "execution_count": 130,
   "metadata": {},
   "outputs": [],
   "source": [
    "from matplotlib import pyplot"
   ]
  },
  {
   "cell_type": "markdown",
   "metadata": {},
   "source": [
    "El gráfico se obtendrá mediante la función `pie_chart`, construida a continuación. Esta recibe como entrada una lista con las predicciones y genera un gráfico que representa visualmente las categorías de sentimientos más representadas en los tweets."
   ]
  },
  {
   "cell_type": "code",
   "execution_count": 108,
   "metadata": {},
   "outputs": [],
   "source": [
    "## Recibe la lista de predicciones\n",
    "def pie_chart(predicciones):\n",
    "    ## Se inician las siguientes variables, que contendrán las frecuencias absolutas con las que aparecen dichos sentimientos \n",
    "    ## en las predicciones.\n",
    "    Hater=0\n",
    "    Molesto=0\n",
    "    Neutro=0\n",
    "    Contento=0\n",
    "    Muy_feliz=0\n",
    "    \n",
    "    ## Para cada número presente en las predicciones:\n",
    "    for numero in predicciones:\n",
    "        ## Siguiendo el codigo numérico que representan los sentimientos, se van incrementando las respectivas variables.\n",
    "        if numero==0:\n",
    "            Hater+=1\n",
    "        elif numero==1:\n",
    "            Molesto+=1\n",
    "        elif numero==2:\n",
    "            Neutro+=1\n",
    "        elif numero==3:\n",
    "            Contento+=1\n",
    "        elif numero==4:\n",
    "            Muy_feliz+=1\n",
    "            \n",
    "    ## Se almacenan las variables en una lista.\n",
    "    numero=[Hater, Molesto, Neutro, Contento, Muy_feliz]\n",
    "    ## Se realiza una lista con los nombres de las respectivas categorías de sentimientos.\n",
    "    sentimientos=[\"Hater\", \"Molesto\", \"Neutro\", \"Contento\", \"Muy feliz\"]\n",
    "    ## Se realiza una lista con los colores.\n",
    "    colors=[\"red\", \"orange\", \"grey\", \"blue\", \"green\"]\n",
    "    ## Las anteriores listas generadas son recibidas por la función \"pie\" que generará el gráfico, pie chart.\n",
    "    pyplot.pie(numero, labels=sentimientos, colors=colors)"
   ]
  },
  {
   "cell_type": "markdown",
   "metadata": {},
   "source": [
    "Se aplica dicha función a las predicciones."
   ]
  },
  {
   "cell_type": "code",
   "execution_count": 131,
   "metadata": {},
   "outputs": [
    {
     "data": {
      "image/png": "[encoded data removed]",
      "text/plain": [
       "<Figure size 640x480 with 1 Axes>"
      ]
     },
     "metadata": {},
     "output_type": "display_data"
    }
   ],
   "source": [
    "pie_chart(predicciones_hater)"
   ]
  },
  {
   "cell_type": "markdown",
   "metadata": {},
   "source": [
    "Según el modelo Random Forest generado, todos los tweets de @StuartHepburn_ tienen un sentimiento \"neutro\", esto no coincide con el resultado esperado, ya que estos contenían comentarios ofensivos. \n",
    "\n",
    "A continuación, se compara este resultado con el del modelo generado con **Naive Bayes**, que posee una precisión del 74.55%. Para ello, primero se codifican los tweets con **CountVectorizer**."
   ]
  },
  {
   "cell_type": "code",
   "execution_count": 132,
   "metadata": {},
   "outputs": [
    {
     "data": {
      "image/png": "[encoded data removed]",
      "text/plain": [
       "<Figure size 640x480 with 1 Axes>"
      ]
     },
     "metadata": {},
     "output_type": "display_data"
    }
   ],
   "source": [
    "## Se extraen los tweets del data set \"hater\".\n",
    "tweets_hater=hater[\"tweet\"]\n",
    "\n",
    "## Se realiza la codificación con \"vectorizer\", que es el \"CountVectorizer\" utilizado para el conjunto de entrenamiento \n",
    "## del modelo. Este paso es necesario para que la predicción se realice de forma correcta. \n",
    "atributo_hater_prediccion = vectorizer.transform(tweets_hater)\n",
    "\n",
    "## Se predicen los sentimientos según el modelo guardado en \"naive_bayes\".\n",
    "predicciones = naive_bayes.predict(atributo_hater_prediccion)\n",
    "\n",
    "## Se genera el pie chart de las predicciones.\n",
    "pie_chart(predicciones)"
   ]
  },
  {
   "cell_type": "markdown",
   "metadata": {},
   "source": [
    "Según este segundo modelo, más de la mitad de los tweets presentan un sentimiento **\"molesto\"** y algunos incluso son catalogados como \"haters\". Esto sí que concuerda con lo esperado, ya que la mayoria de los tweets eran críticas a políticos u otros temas polémicos, escritos con tono de enfadado. Sumado a esto, este modelo presentaba una precisión mayor que el anterior. Esto indica que este modelo generado con Naive Bayes predice de forma correcta los sentimientos que transmiten los tweets. \n",
    "\n",
    "Por otro lado, un cuarto de los comentarios son catalogados como \"contentos\", esto puede deberse a que alguno de sus tweets tengan estos sentimientos realmente o que el modelo no ha comprendido bien ciertas ironías. \n",
    "\n",
    "A continuación, se analiza la segunda cuenta, **@HazelandRemy**, en ella se publican tweets sobre la vida de dos gatos, a menudo son comentarios amorosos y divertidos. Se espera que los sentimientos asociados a estos tweets sean catalogados en su mayoría como positivos. Se cargan los datos de los tweets almacenados en `lovely.csv` y se procesa el texto de estos. \n"
   ]
  },
  {
   "cell_type": "code",
   "execution_count": 133,
   "metadata": {},
   "outputs": [
    {
     "name": "stderr",
     "output_type": "stream",
     "text": [
      "[nltk_data] Downloading package stopwords to\n",
      "[nltk_data]     C:\\Users\\USUARIO\\AppData\\Roaming\\nltk_data...\n",
      "[nltk_data]   Package stopwords is already up-to-date!\n"
     ]
    },
    {
     "data": {
      "text/html": [
       "<div>\n",
       "<style scoped>\n",
       "    .dataframe tbody tr th:only-of-type {\n",
       "        vertical-align: middle;\n",
       "    }\n",
       "\n",
       "    .dataframe tbody tr th {\n",
       "        vertical-align: top;\n",
       "    }\n",
       "\n",
       "    .dataframe thead th {\n",
       "        text-align: right;\n",
       "    }\n",
       "</style>\n",
       "<table border=\"1\" class=\"dataframe\">\n",
       "  <thead>\n",
       "    <tr style=\"text-align: right;\">\n",
       "      <th></th>\n",
       "      <th>tweet</th>\n",
       "    </tr>\n",
       "  </thead>\n",
       "  <tbody>\n",
       "    <tr>\n",
       "      <th>0</th>\n",
       "      <td>sundayvib leav feel love . purrrfect love day...</td>\n",
       "    </tr>\n",
       "    <tr>\n",
       "      <th>1</th>\n",
       "      <td>call caturday sleep train ! ’ realli fit mum ...</td>\n",
       "    </tr>\n",
       "    <tr>\n",
       "      <th>2</th>\n",
       "      <td>bust ! mum ’ fault ! — hazel heaterv cat frid...</td>\n",
       "    </tr>\n",
       "    <tr>\n",
       "      <th>3</th>\n",
       "      <td>love treat deliv ! even funki video music pla...</td>\n",
       "    </tr>\n",
       "    <tr>\n",
       "      <th>4</th>\n",
       "      <td>throwbackthursday adventur snow almost exact ...</td>\n",
       "    </tr>\n",
       "  </tbody>\n",
       "</table>\n",
       "</div>"
      ],
      "text/plain": [
       "                                               tweet\n",
       "0   sundayvib leav feel love . purrrfect love day...\n",
       "1   call caturday sleep train ! ’ realli fit mum ...\n",
       "2   bust ! mum ’ fault ! — hazel heaterv cat frid...\n",
       "3   love treat deliv ! even funki video music pla...\n",
       "4   throwbackthursday adventur snow almost exact ..."
      ]
     },
     "execution_count": 133,
     "metadata": {},
     "output_type": "execute_result"
    }
   ],
   "source": [
    "## Se lee el data set con los tweets.\n",
    "lovely_prev = pandas.read_csv('lovely.csv', header=None, names=[\"tweet\", \"None\"])\n",
    "\n",
    "## Se elimina la segunda columna, sin información. \n",
    "lovely=lovely_prev.drop(\"None\", axis=1)\n",
    "\n",
    "## Se limpia el texto de los tweets, entre cosas, eliminando las palabras poco informativas.\n",
    "lovely=limpiar_texto(lovely)\n",
    "\n",
    "lovely.head(5)"
   ]
  },
  {
   "cell_type": "markdown",
   "metadata": {},
   "source": [
    "Al igual que con el usuario anterior, se analizarán los tweets con el modelos generado con **Random Forest**. En primer lugar, se codifican según **Word2Vec** y se realizan las predicciones."
   ]
  },
  {
   "cell_type": "code",
   "execution_count": 134,
   "metadata": {},
   "outputs": [
    {
     "data": {
      "image/png": "[encoded data removed]",
      "text/plain": [
       "<Figure size 640x480 with 1 Axes>"
      ]
     },
     "metadata": {},
     "output_type": "display_data"
    }
   ],
   "source": [
    "## Se codifican los tweets según Word2Vec.\n",
    "atributo_lovely=codificador_wv(lovely)\n",
    "\n",
    "## Se realiza la predicción del modelo y se representa mediante un gráfico.\n",
    "predicciones_lovely = random_forest.predict(list(atributo_lovely[\"tweet_vector\"]))\n",
    "pie_chart(predicciones_lovely)"
   ]
  },
  {
   "cell_type": "markdown",
   "metadata": {},
   "source": [
    "De nuevo, califica todos los sentimientos de los tweets como \"neutros\". Ambos conjuntos de datos contenían comentarios muy distintos, el primero contenía insultos y palabras de enfado, mientras que el segundo presentaba palabras cariñosas y alegres. Que el modelo generado con Random Forest clasifique todos los tweets de ambos conjuntos dentro de la categoría **\"neutro\"**, indica que está mal generado o que no es válido para analizar tweets de este tipo. Intentó solucionarse ajustando los parámetros, pero no se obtuvieron resultados mejores. Una posible  razón por la que este modelo no funciona, puede ser que necesite como entrada datos sobre temas más diversos, ya que este se realizó sólo con tweets relacionados con la bolsa. Al ser entrenados con datos más diversos puede, del mismo modo, predecir los sentimientos de tweets más variados. En cualquier caso, aunque la precisión de este modelo sea superior del 70%, no es capaz de analizar los sentimientos de estos dos usuarios.   \n",
    "\n",
    "Por último, estos tweets serán analizados por el modelo de **Naive Bayes**. "
   ]
  },
  {
   "cell_type": "code",
   "execution_count": 153,
   "metadata": {},
   "outputs": [
    {
     "data": {
      "image/png": "[encoded data removed]",
      "text/plain": [
       "<Figure size 640x480 with 1 Axes>"
      ]
     },
     "metadata": {},
     "output_type": "display_data"
    }
   ],
   "source": [
    "## Se extraen los tweets del data set \"lovely\".\n",
    "tweets_lovely=lovely[\"tweet\"]\n",
    "\n",
    "## Se codifica el texto con el mismo \"CountVectorizer\" con el que se realizó el entrenamiento del modelo.\n",
    "atributo_lovely_prediccion = vectorizer.transform(tweets_lovely)\n",
    "\n",
    "## Se predicen los sentimientos y se representan en el gráfico.\n",
    "predicciones = naive_bayes.predict(atributo_lovely_prediccion)\n",
    "pie_chart(predicciones)"
   ]
  },
  {
   "cell_type": "markdown",
   "metadata": {},
   "source": [
    "Según este modelo, la mitad de los tweets están clasificados como **\"contentos\"** y aproximadamente un octavo son \"muy felices\". Esto concuerda con lo esperado, ya que la mayoría de los tweets eran de mensajes amigables. Por otro lado, un octavo de los comentarios han sido catalogados como \"molestos\", esto no es de extrañar ya que justo en las últimas publicaciones había un par de tweets que hablaban desde una perspectiva en tanto enfadada por parte de los gatos. \n",
    "\n",
    "Sobre este modelo generado con Naive Bayes y CountVectorizer se puede concluir que funciona adecuadamente, a parte de tener una precisión del 74.55%, las predicciones de estos dos conjuntos de datos parecen ser correctas. El primer usuario, en su mayoría publica comentarios catalogados como \"molestos\", y el segundo, como \"contentos\". "
   ]
  }
 ],
 "metadata": {
  "kernelspec": {
   "display_name": "Python 3 (ipykernel)",
   "language": "python",
   "name": "python3"
  },
  "language_info": {
   "codemirror_mode": {
    "name": "ipython",
    "version": 3
   },
   "file_extension": ".py",
   "mimetype": "text/x-python",
   "name": "python",
   "nbconvert_exporter": "python",
   "pygments_lexer": "ipython3",
   "version": "3.11.5"
  },
  "name": "Solución_01_nueva.ipynb"
 },
 "nbformat": 4,
 "nbformat_minor": 4
}
