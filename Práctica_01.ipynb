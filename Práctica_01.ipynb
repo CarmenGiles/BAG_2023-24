{
 "cells": [
  {
   "cell_type": "markdown",
   "metadata": {},
   "source": [
    "### El lenguaje de programación _Python_"
   ]
  },
  {
   "cell_type": "markdown",
   "metadata": {},
   "source": [
    "El objetivo de esta práctica es realizar una serie de ejercicios de familiarización con el lenguaje de programación _Python_."
   ]
  },
  {
   "cell_type": "markdown",
   "metadata": {},
   "source": [
    "Para evaluar las celdas se puede usar uno de los siguientes tres comandos:\n",
    "* Control-Enter: evalúa la celda y permanece en ella\n",
    "* Mayúsculas-Enter: evalúa la celda y selecciona la siguiente celda\n",
    "* Alt-Enter: evalúa la celda e inserta una celda vacía justo debajo"
   ]
  },
  {
   "cell_type": "markdown",
   "metadata": {},
   "source": [
    "###### Ejercicio 1"
   ]
  },
  {
   "cell_type": "markdown",
   "metadata": {},
   "source": [
    "Se pide definir una función `cuadrados` que, dada una secuencia `sec` de números, devuelva la lista de los cuadrados de esos números, en el mismo orden."
   ]
  },
  {
   "cell_type": "markdown",
   "metadata": {},
   "source": [
    "###### Ejemplos:\n",
    "\n",
    "* `cuadrados([2, -1.2, 3e2, 1j])` debe devolver `[4, 1.44, 90000.0, (-1+0j)]`\n",
    "* `cuadrados(i for i in range(10))` debe devolver `[0, 1, 4, 9, 16, 25, 36, 49, 64, 81]`"
   ]
  },
  {
   "cell_type": "code",
   "execution_count": 30,
   "metadata": {},
   "outputs": [],
   "source": [
    "def cuadrados(lista):\n",
    "    resultado=[]\n",
    "    for i in lista:\n",
    "        resultado+=[i**2]\n",
    "    return(resultado)\n",
    "\n",
    "def cuadrados1(sec):\n",
    "    for i in range(0,len(sec)):\n",
    "        sec[i]**=2\n",
    "    return sec\n",
    "\n",
    "## la función range va siempre a un número menos, si le dices que vaya desde la posición 0 al 4, va desde el 0 a 3.\n",
    "## entonces:\n",
    "\n",
    "# for i in range(0,len(lista)) --> y la lista es [1,4,5] tu piensas que va desde 0 a longitud, 3, peeeero va desde 0 a 2; que en este caso nos \n",
    "# viene genial, para ir accediendo a las posiciones"
   ]
  },
  {
   "cell_type": "code",
   "execution_count": 21,
   "metadata": {},
   "outputs": [
    {
     "data": {
      "text/plain": [
       "[4, 1.44, 90000.0, (-1+0j)]"
      ]
     },
     "execution_count": 21,
     "metadata": {},
     "output_type": "execute_result"
    }
   ],
   "source": [
    "cuadrados([2, -1.2, 3e2, 1j])\n",
    "lista[3]\n",
    "range(0,4)"
   ]
  },
  {
   "cell_type": "code",
   "execution_count": 33,
   "metadata": {},
   "outputs": [
    {
     "data": {
      "text/plain": [
       "[0, 1, 4, 9, 16, 25, 36, 49, 64, 81]"
      ]
     },
     "execution_count": 33,
     "metadata": {},
     "output_type": "execute_result"
    }
   ],
   "source": [
    "cuadrados(i for i in range(10))        "
   ]
  },
  {
   "cell_type": "markdown",
   "metadata": {},
   "source": [
    "###### Ejercicio 2"
   ]
  },
  {
   "cell_type": "markdown",
   "metadata": {},
   "source": [
    "Un número entero positivo se dice que es perfecto si coincide con la suma de todos sus divisores propios (es decir, distintos de él mismo). Se pide definir una función `escribe_perfectos` que, dados dos números enteros positivos `m` $\\leq$ `n`, imprima por pantalla todos los números perfectos entre `m` y `n`. Se pide también que se indiquen los divisores de cada número perfecto que se imprima."
   ]
  },
  {
   "cell_type": "markdown",
   "metadata": {},
   "source": [
    "###### Ejemplos:\n",
    "\n",
    "\n",
    "* `escribe_perfectos(1, 1000)` debe escribir en pantalla:\n",
    "\n",
    "```\n",
    "El número 6 es perfecto y sus divisores son [1, 2, 3]\n",
    "El número 28 es perfecto y sus divisores son [1, 2, 4, 7, 14]\n",
    "El número 496 es perfecto y sus divisores son [1, 2, 4, 8, 16, 31, 62, 124, 248]\n",
    "```\n",
    "\n"
   ]
  },
  {
   "cell_type": "code",
   "execution_count": 39,
   "metadata": {},
   "outputs": [],
   "source": [
    "def escribe_perfectos (n, m):\n",
    "    for i in range(n,m+1):\n",
    "        divisores=[]\n",
    "        for j in range (1 , i):\n",
    "            if (i%j)==0:\n",
    "                divisores+=[j]\n",
    "                ##divisores.append(j)\n",
    "        if sum(divisores)==i :\n",
    "            print(\"El número\", i, \"es perfecto y sus divisores son:\", divisores)          \n"
   ]
  },
  {
   "cell_type": "code",
   "execution_count": 14,
   "metadata": {},
   "outputs": [
    {
     "name": "stdout",
     "output_type": "stream",
     "text": [
      "[3, 4, 5]\n"
     ]
    }
   ],
   "source": []
  },
  {
   "cell_type": "code",
   "execution_count": 40,
   "metadata": {
    "scrolled": true
   },
   "outputs": [
    {
     "name": "stdout",
     "output_type": "stream",
     "text": [
      "El número 6 es perfecto y sus divisores son: [1, 2, 3]\n",
      "El número 28 es perfecto y sus divisores son: [1, 2, 4, 7, 14]\n",
      "El número 496 es perfecto y sus divisores son: [1, 2, 4, 8, 16, 31, 62, 124, 248]\n"
     ]
    }
   ],
   "source": [
    "escribe_perfectos(1, 1000)"
   ]
  },
  {
   "cell_type": "markdown",
   "metadata": {},
   "source": [
    "###### Ejercicio 3"
   ]
  },
  {
   "cell_type": "markdown",
   "metadata": {},
   "source": [
    "Consideremos diccionarios cuyas claves son cadenas de caracteres de longitud uno y los valores asociados son números enteros no negativos, como por ejemplo el siguiente diccionario `d`:"
   ]
  },
  {
   "cell_type": "code",
   "execution_count": 41,
   "metadata": {},
   "outputs": [
    {
     "data": {
      "text/plain": [
       "20"
      ]
     },
     "execution_count": 41,
     "metadata": {},
     "output_type": "execute_result"
    }
   ],
   "source": [
    "d = {'a': 5, 'b': 10, 'c': 12, 'd': 11, 'e': 15, 'f': 20, 'g': 15, 'h': 9, 'i': 7, 'j': 2}\n",
    "max(d.values())"
   ]
  },
  {
   "cell_type": "markdown",
   "metadata": {},
   "source": [
    "Se pide definir una función `histograma_horizontal` que, dado un diccionario del tipo anterior, escriba en pantalla el histograma de barras horizontales asociado, imprimiendo las barras de arriba a abajo en el orden que determina la función `sorted` sobre las claves, tal y como se ilustra en el siguiente ejemplo:"
   ]
  },
  {
   "cell_type": "markdown",
   "metadata": {},
   "source": [
    "* `histograma_horizontal(d)` debe escribir en pantalla:\n",
    "\n",
    "```\n",
    "a: *****\n",
    "b: **********\n",
    "c: ************\n",
    "d: ***********\n",
    "e: ***************\n",
    "f: ********************\n",
    "g: ***************\n",
    "h: *********\n",
    "i: *******\n",
    "j: **\n",
    "```"
   ]
  },
  {
   "cell_type": "code",
   "execution_count": 14,
   "metadata": {},
   "outputs": [],
   "source": [
    "def histograma_horizontal (diccionario):\n",
    "    sorted(diccionario)\n",
    "    for (nombre, value) in diccionario.items():\n",
    "            print(nombre, \":\", value*\"*\")\n",
    "    "
   ]
  },
  {
   "cell_type": "code",
   "execution_count": 15,
   "metadata": {},
   "outputs": [
    {
     "name": "stdout",
     "output_type": "stream",
     "text": [
      "a : *****\n",
      "b : **********\n",
      "c : ************\n",
      "d : ***********\n",
      "e : ***************\n",
      "f : ********************\n",
      "g : ***************\n",
      "h : *********\n",
      "i : *******\n",
      "j : **\n"
     ]
    }
   ],
   "source": [
    "histograma_horizontal(d)"
   ]
  },
  {
   "cell_type": "markdown",
   "metadata": {},
   "source": [
    "Se pide definir una función `histograma_vertical` que, dado un diccionario del tipo anterior, escriba en pantalla el histograma de barras verticales asociado, imprimiendo las barras de izquierda a derecha en el orden que determina la función `sorted` sobre las claves, tal y como se ilustra en el siguiente ejemplo:"
   ]
  },
  {
   "cell_type": "markdown",
   "metadata": {},
   "source": [
    "* `histograma_vertical(d)` debe escribir en pantalla:\n",
    "\n",
    "```\n",
    "          *        \n",
    "          *        \n",
    "          *        \n",
    "          *        \n",
    "          *        \n",
    "        * * *      \n",
    "        * * *      \n",
    "        * * *      \n",
    "    *   * * *      \n",
    "    * * * * *      \n",
    "  * * * * * *      \n",
    "  * * * * * * *    \n",
    "  * * * * * * *    \n",
    "  * * * * * * * *  \n",
    "  * * * * * * * *  \n",
    "* * * * * * * * *  \n",
    "* * * * * * * * *  \n",
    "* * * * * * * * *  \n",
    "* * * * * * * * * *\n",
    "* * * * * * * * * *\n",
    "a b c d e f g h i j\n",
    "```"
   ]
  },
  {
   "cell_type": "code",
   "execution_count": 78,
   "metadata": {},
   "outputs": [],
   "source": [
    "def histograma_vertical(diccionario):\n",
    "    sorted(diccionario)\n",
    "    h_max=max(diccionario.values())\n",
    "    for h in reversed(range(1, h_max+1)) :\n",
    "        cadena=\" \"\n",
    "        nombres=\" \"\n",
    "        for (nombre, value) in diccionario.items():\n",
    "            nombres+=nombre\n",
    "            nombres+=\" \"\n",
    "            if value=>h :\n",
    "                cadena+=\"* \"\n",
    "            else:\n",
    "                cadena+=\"  \"\n",
    "        print(cadena)\n",
    "    ##names=list(diccinario.keys())\n",
    "    ## string_names:\" \".join(names)\n",
    "    ## print(string_names)\n",
    "    print(nombres)\n",
    "    "
   ]
  },
  {
   "cell_type": "code",
   "execution_count": 79,
   "metadata": {},
   "outputs": [
    {
     "name": "stdout",
     "output_type": "stream",
     "text": [
      "           *         \n",
      "           *         \n",
      "           *         \n",
      "           *         \n",
      "           *         \n",
      "         * * *       \n",
      "         * * *       \n",
      "         * * *       \n",
      "     *   * * *       \n",
      "     * * * * *       \n",
      "   * * * * * *       \n",
      "   * * * * * * *     \n",
      "   * * * * * * *     \n",
      "   * * * * * * * *   \n",
      "   * * * * * * * *   \n",
      " * * * * * * * * *   \n",
      " * * * * * * * * *   \n",
      " * * * * * * * * *   \n",
      " * * * * * * * * * * \n",
      " * * * * * * * * * * \n",
      " a b c d e f g h i j \n"
     ]
    }
   ],
   "source": [
    "histograma_vertical(d)"
   ]
  },
  {
   "cell_type": "markdown",
   "metadata": {},
   "source": [
    "#### Ejercicio 4 \n",
    "\n",
    "Crea una función llamada booking que dados unos datos sobre el precio y la distancia al centro de\n",
    "distintos hoteles, calcule cual es el mejor para el usuario/a.\n",
    "Para ello, crea un diccionario que contenga datos sobre el precio por noche y la distancia al centro de distintos\n",
    "hoteles. Busca dentro de ese diccionario las opciones que entren dentro del umbral establecido.\n",
    "Como inputs la función recibirá: \n",
    "\n",
    "* Un elemento llamado preferencia_distancia que recoja la distancia máxima a la\n",
    "que quiere estar del centro\n",
    "* Un elemento llamado preferencia_precio que recoja el precio máximo que quiere\n",
    "pagar\n",
    "\n",
    "Como dato de salida dirá qué hotel/es son los más idóneos."
   ]
  },
  {
   "cell_type": "code",
   "execution_count": 9,
   "metadata": {},
   "outputs": [],
   "source": [
    "def booking (precios, distancias, preferencia_precios, preferencia_distancias):\n",
    "    hoteles_validos=[]\n",
    "    for hotel in dic_precios.keys():\n",
    "        value_precios=dic_precios[hotel]\n",
    "        value_distancias=dic_distancias[hotel]\n",
    "        if value_precios<=preferencia_precios and value_distancias<=preferencia_distancias:\n",
    "            hoteles_validos+=hotel\n",
    "    if hoteles_validos: ##existe hoteles_validos\n",
    "        print(\"Los hoteles más idoneos son:\", \", \".join(hoteles_validos))\n",
    "    else:\n",
    "        print(\"No hay hoteles que cumplan su condición.\")\n",
    "    \n",
    "    \n",
    "    "
   ]
  },
  {
   "cell_type": "code",
   "execution_count": 5,
   "metadata": {},
   "outputs": [
    {
     "name": "stdout",
     "output_type": "stream",
     "text": [
      "No hay hoteles que cumplan su condición.\n"
     ]
    }
   ],
   "source": [
    "dic_precios={\"a\":20, \"b\":50, \"c\":30, \"d\":40}\n",
    "dic_distancias={\"a\":2, \"b\": 1, \"c\":1.3, \"d\": 1.5}\n",
    "booking (dic_precios, dic_distancias, 40, 0.6)"
   ]
  },
  {
   "cell_type": "code",
   "execution_count": 10,
   "metadata": {},
   "outputs": [
    {
     "name": "stdout",
     "output_type": "stream",
     "text": [
      "Los hoteles más idoneos son: c, d\n"
     ]
    }
   ],
   "source": [
    "booking (dic_precios, dic_distancias, 40, 1.7)"
   ]
  },
  {
   "cell_type": "markdown",
   "metadata": {},
   "source": [
    "#### Ejercicio 5\n",
    "Crear una función que determine si una palabra ingresada por el usuario es un palíndromo o no. \n",
    "La función debe recibir una palabra como entrada, realizar la verificación y devolver un mensaje \n",
    "indicando si la palabra es un palíndromo o no"
   ]
  },
  {
   "cell_type": "code",
   "execution_count": 40,
   "metadata": {},
   "outputs": [],
   "source": [
    "def palindromo ():\n",
    "    palabra=input(\"Escribe tu palabra:\")\n",
    "    palabra=palabra.lower() ##para que todas sean minusculas y sean comparables\n",
    "    ult_letra=(len(palabra)-1)\n",
    "    x=0\n",
    "    for letra in range(0,len(palabra)):\n",
    "        if palabra[letra] == palabra[ult_letra]:\n",
    "            x+=1\n",
    "        ult_letra=ult_letra-1\n",
    "    if x == len(palabra):\n",
    "        print(\"La palabra\", \"<\", palabra, \">\", \"es un palíndromo\")\n",
    "    else:\n",
    "        print(\"La palabra\", \"<\", palabra, \">\", \"no es un palíndromo\")\n",
    "    "
   ]
  },
  {
   "cell_type": "code",
   "execution_count": 48,
   "metadata": {},
   "outputs": [],
   "source": [
    "def palindromo2 ():\n",
    "    palabra=input(\"Escribe tu palabra:\")\n",
    "    palabra=palabra.lower()\n",
    "    if palabra[::-1]==palabra:\n",
    "        print(\"La palabra\", \"<\", palabra, \">\", \"es un palíndromo\")\n",
    "    else:\n",
    "        print(\"La palabra\", \"<\", palabra, \">\", \"no es un palíndromo\")\n"
   ]
  },
  {
   "cell_type": "code",
   "execution_count": 50,
   "metadata": {},
   "outputs": [
    {
     "name": "stdout",
     "output_type": "stream",
     "text": [
      "Escribe tu palabra:Ana\n",
      "La palabra < ana > es un palíndromo\n"
     ]
    }
   ],
   "source": [
    "palindromo2()"
   ]
  },
  {
   "cell_type": "markdown",
   "metadata": {},
   "source": [
    "###### Ejercicio 6"
   ]
  },
  {
   "cell_type": "markdown",
   "metadata": {},
   "source": [
    "Supongamos que queremos simular la trayectoria de un proyectil que se dispara en un punto dado a una determinada altura inicial. El disparo se realiza hacia adelante con una velocidad inicial y con un determinado ángulo. Inicialmente el proyectil avanzará subiendo, pero por la fuerza de la gravedad, en un momento dado empezará a bajar hasta que aterrice. Por simplificar, supondremos que no existe rozamiento ni resistencia del viento.\n",
    "\n",
    "Se pide definir una clase `Proyectil` que sirva para representar el estado del proyectil en un instante de tiempo dado. Para ello, se necesitan al menos atributos de datos que guarden la siguiente información:\n",
    "* Distancia recorrida (en horizontal)\n",
    "* Altura\n",
    "* Velocidad horizontal\n",
    "* Velocidad vertical\n",
    "\n",
    "Además, se pide dotar a la clase `Proyectil` de los siguientes tres métodos:\n",
    "* obtener_pos_x: devuelve la distancia horizontal recorrida \n",
    "* obtener_pos_y: devuelve la distancia vertical recorrida \n",
    "* `actualizar_posición`: dada una cantidad `t` de segundos, actualiza la posición y la velocidad del proyectil tras haber transcurrido ese tiempo\n",
    "\n",
    "Una vez definida la clase `Proyectil`, se pide definir una función `aterriza` que, dados los datos de `altura`, `velocidad`, `ángulo` e `intervalo`, imprima por pantalla las distintas posiciones por las que pasa un proyectil que se ha disparado con esa `velocidad`, `ángulo` (en grados) y una `altura` inicial. Se mostrará la posición del proyectil en cada `intervalo` de tiempo, hasta que aterriza. Además también debe imprimir la altura máxima que ha alcanzado al final de cada intervalo, cuántos intervalos de tiempo ha tardado en aterrizar y el alcance que ha tenido.\n",
    "\n",
    "Indicaciones:\n",
    "1. Si el proyectil tiene una velocidad inicial $v$ y se lanza con un ángulo $\\theta$, las componentes horizontal y vertical de la velocidad inicial son $v \\times \\cos(\\theta)$ y $v \\times \\sin(\\theta)$, respectivamente.\n",
    "2. La componente horizontal de la velocidad, en ausencia de rozamiento y viento, podemos suponer que permanece constante.\n",
    "3. La componente vertical de la velocidad cambia de la siguiente manera tras un intervalo de tiempo $t$: si $vy_0$ es la velocidad vertical al inicio del intervalo, entonces al final del intervalo tiene una velocidad $vy_1 = vy_0 - 9.8 \\times t$, debido a la gravedad de la Tierra.\n",
    "4. En ese caso, si el proyectil se encuentra a una altura $h_0$, tras un intervalo de tiempo $t$ se encontrará a una altura $h_1 = h_0 + vm  \\times t$, donde $vm$ es la media entre las anteriores $vy_0$ y $vy_1$."
   ]
  },
  {
   "cell_type": "markdown",
   "metadata": {},
   "source": [
    "###### Ejemplo:\n",
    "\n",
    "* `aterriza(30, 1, 20, 0.1)` debe escribir en pantalla:\n",
    "\n",
    "```\n",
    "Proyectil en posición(0.0, 30.0)\n",
    "Proyectil en posición(0.1, 30.0)\n",
    "Proyectil en posición(0.2, 29.9)\n",
    "Proyectil en posición(0.3, 29.7)\n",
    "Proyectil en posición(0.4, 29.4)\n",
    "Proyectil en posición(0.5, 28.9)\n",
    "Proyectil en posición(0.6, 28.4)\n",
    "Proyectil en posición(0.7, 27.8)\n",
    "Proyectil en posición(0.8, 27.1)\n",
    "Proyectil en posición(0.8, 26.3)\n",
    "Proyectil en posición(0.9, 25.4)\n",
    "Proyectil en posición(1.0, 24.4)\n",
    "Proyectil en posición(1.1, 23.4)\n",
    "Proyectil en posición(1.2, 22.2)\n",
    "Proyectil en posición(1.3, 20.9)\n",
    "Proyectil en posición(1.4, 19.5)\n",
    "Proyectil en posición(1.5, 18.0)\n",
    "Proyectil en posición(1.6, 16.4)\n",
    "Proyectil en posición(1.7, 14.7)\n",
    "Proyectil en posición(1.8, 13.0)\n",
    "Proyectil en posición(1.9, 11.1)\n",
    "Proyectil en posición(2.0, 9.1)\n",
    "Proyectil en posición(2.1, 7.0)\n",
    "Proyectil en posición(2.2, 4.9)\n",
    "Proyectil en posición(2.3, 2.6)\n",
    "Proyectil en posición(2.3, 0.2)\n",
    "\n",
    "Tras 26 intervalos de 0.1 segundos (2.6 segundos) el proyectil ha aterrizado.\n",
    "Ha recorrido una distancia de 2.4 metros\n",
    "Ha alcanzado una altura máxima de 30.0 metros\n",
    "```"
   ]
  },
  {
   "cell_type": "code",
   "execution_count": null,
   "metadata": {
    "collapsed": true,
    "jupyter": {
     "outputs_hidden": true
    }
   },
   "outputs": [],
   "source": []
  }
 ],
 "metadata": {
  "kernelspec": {
   "display_name": "Python 3 (ipykernel)",
   "language": "python",
   "name": "python3"
  },
  "language_info": {
   "codemirror_mode": {
    "name": "ipython",
    "version": 3
   },
   "file_extension": ".py",
   "mimetype": "text/x-python",
   "name": "python",
   "nbconvert_exporter": "python",
   "pygments_lexer": "ipython3",
   "version": "3.12.0"
  }
 },
 "nbformat": 4,
 "nbformat_minor": 4
}
