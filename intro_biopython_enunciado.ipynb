{
 "cells": [
  {
   "cell_type": "markdown",
   "metadata": {},
   "source": [
    "# Bioinformática y Análisis Genómico\n",
    "# 4º curso Grado en Bioquímica - Mención en Biotecnología\n",
    "# Curso 2023/2024\n",
    "## Práctica 2: Introducción a Biopython\n",
    "\n"
   ]
  },
  {
   "cell_type": "markdown",
   "metadata": {},
   "source": [
    "**Biopython** https://biopython.org/ es un conjunto de herramientas de libre acceso para la biología computacional escritas en Python por un equipo internacional de desarrolladores.\n",
    "\n",
    "Se trata de un esfuerzo de colaboración distribuido para desarrollar bibliotecas y aplicaciones en Python que satisfagan las necesidades del trabajo actual y futuro en bioinformática."
   ]
  },
  {
   "cell_type": "markdown",
   "metadata": {},
   "source": [
    "En esta práctica se va a aprender a instalar y utilizar Biopython en un entorno de Anaconda.\n"
   ]
  },
  {
   "cell_type": "markdown",
   "metadata": {},
   "source": [
    "## Instalación de Biopython en un entorno de Anaconda\n",
    "Debemos instalarnos biopython para poder acceder a los distintos paquetes (librerías) que ofrece. Al igual que antes de instalarnos cualquier paquete de bioconductor en R debíamos instalarnos el paquete general de Bioconductor.\n",
    "\n",
    "* Requisitos: Una instalación de *Anaconda* (Ya lo tenemos)\n",
    "* Abrir un terminal en Linux o Mac, o bien ejecutar el programa *Anaconda Prompt* en Windows\n",
    "* Crear un nuevo entorno de Python con Biopython llamado *bioinformatics* mediante el comando:\n",
    "    * **conda create -n bioinformatics biopython**\n",
    "* Activar el entorno creado\n",
    "    * **conda activate bioinformatics**\n",
    "* Es necesario volver a instalar jupyter para el entorno creado\n",
    "    * **conda install jupyter**\n",
    "* Iniciar jupyter\n",
    "    * **jupyter notebook**"
   ]
  },
  {
   "cell_type": "markdown",
   "metadata": {},
   "source": [
    "## Importacion de bibiotecas y funciones\n",
    "\n",
    "El paquete principal de Biopython se llama Bio, conteniendo diferentes subpaquetes con diversa funcionalidad.\n",
    "Consultad https://biopython.org/wiki/Documentation para más información.\n",
    "\n",
    "Vamos a importar una serie de subpaquetes de Bio, así comprobaremos si la instalación se ha hecho correctamente."
   ]
  },
  {
   "cell_type": "code",
   "execution_count": 1,
   "metadata": {},
   "outputs": [],
   "source": [
    "from Bio import Entrez, Seq, SeqIO"
   ]
  },
  {
   "cell_type": "markdown",
   "metadata": {},
   "source": [
    "## Interacción con Bases de Datos\n",
    "\n",
    "Una de las facilidades que aporta este paquete es que podemos interaccionar con bases de datos como el NCBI. Por ejemplo, podemos acceder a una secuencia subida al NCBI desde aquí. Para ello usaremos la librería *Entrez*.\n",
    "\n"
   ]
  },
  {
   "cell_type": "markdown",
   "metadata": {},
   "source": [
    "Para usar cualquier función de una librería siempre se sigue la siguiente estructura: librería.función(argumentos). Entrez es la librería a la que queremos acceder, lo que viene después del punto es la funcion.\n",
    "\n",
    "Con la librería *Entrez* se crean objetos de clase handle. Son objetos que no se pueden imprimir por pantalla como texto, pues son literalmente \"wrappers\", es decir, agrupan mucha información de distinta índole. Se selecciona qué hacer con los handlers de Entrez dependiendo de la información que quieras extraer de ellos.\n",
    "Para extraer la información que tengan en texto plano se usa .read"
   ]
  },
  {
   "cell_type": "code",
   "execution_count": 28,
   "metadata": {},
   "outputs": [
    {
     "name": "stdout",
     "output_type": "stream",
     "text": [
      "{'DbList': ['pubmed', 'protein', 'nuccore', 'ipg', 'nucleotide', 'structure', 'genome', 'annotinfo', 'assembly', 'bioproject', 'biosample', 'blastdbinfo', 'books', 'cdd', 'clinvar', 'gap', 'gapplus', 'grasp', 'dbvar', 'gene', 'gds', 'geoprofiles', 'homologene', 'medgen', 'mesh', 'nlmcatalog', 'omim', 'orgtrack', 'pmc', 'popset', 'proteinclusters', 'pcassay', 'protfam', 'pccompound', 'pcsubstance', 'seqannot', 'snp', 'sra', 'taxonomy', 'biocollections', 'gtr']}\n"
     ]
    }
   ],
   "source": [
    "#Entrez.funcion(argumentos)\n",
    "Entrez.email = \"cargilflo@us.es\"\n",
    "## para saber quien esta accediendo, hay que hacerlo siempre\n",
    "## no podemos usar la info directamente del Entrez por que es en handle, mezcla, tienes que seleccionar si quieres la secuencia\n",
    "## o .txt por ejemplo. \n",
    "\n",
    "# Estas lineas nos dan un listado de bases de datos disponibles\n",
    "handle = Entrez.einfo() \n",
    "basedatos = Entrez.read(handle)\n",
    "print(basedatos)\n",
    "##distintos sitios de donde se saca la info"
   ]
  },
  {
   "cell_type": "markdown",
   "metadata": {},
   "source": [
    "Vamos a buscar una secuencia por Accesion number y obtenerla en formato FASTA.\n",
    "*.efetch* es la funcion de Entrez para buscar."
   ]
  },
  {
   "cell_type": "code",
   "execution_count": 4,
   "metadata": {},
   "outputs": [
    {
     "name": "stdout",
     "output_type": "stream",
     "text": [
      "ID: NM_002299.4\n",
      "Name: NM_002299.4\n",
      "Description: NM_002299.4 Homo sapiens lactase (LCT), mRNA\n",
      "Number of features: 0\n",
      "Seq('AACAGTTCCTAGAAAATGGAGCTGTCTTGGCATGTAGTCTTTATTGCCCTGCTA...GTC')\n"
     ]
    }
   ],
   "source": [
    "hdl = Entrez.efetch(db='nucleotide', id=['NM_002299'], rettype='fasta')  # Lactase gene\n",
    "\n",
    "##db, data base de la lista de arriba, el id o accesion number, rettype que quieres un fasta. pero en hdl no solo hay un fasta, \n",
    "##sino que es una mezcla que contiene un fasta. \n",
    "\n",
    "#De nuevo la información está en forma de handle.\n",
    "#Se traduce a fasta usando la librería SeqIO, su función .parse\n",
    "recs = list(SeqIO.parse(hdl, 'fasta'))\n",
    "\n",
    "## le forzamos pa que sea una lista, cada elemento una secuencia (por ejemplo, el genoma mitocondrial y el completo o cada \n",
    "## cromosoma\n",
    "\n",
    "# Recordemos que un FASTA puede tener diversas secuencias (separado en crosomas, CDSs, etc.)\n",
    "#Aunque en este caso solo hay una\n",
    "for rec in recs:\n",
    "    print(rec)\n",
    "    \n",
    "## en este caso, solo tenemos una secuencia, solo hay un rec."
   ]
  },
  {
   "cell_type": "code",
   "execution_count": 5,
   "metadata": {},
   "outputs": [
    {
     "data": {
      "text/plain": [
       "1"
      ]
     },
     "execution_count": 5,
     "metadata": {},
     "output_type": "execute_result"
    }
   ],
   "source": [
    "#Vamos a guardar el FASTA en un fichero llamado lactas.fasta\n",
    "SeqIO.write(recs, \"lactase.fasta\", \"fasta\")"
   ]
  },
  {
   "cell_type": "code",
   "execution_count": 6,
   "metadata": {},
   "outputs": [],
   "source": [
    "#Igualmente, podemos leer un fichero, ahora lo leemos\n",
    "lactase = list(SeqIO.parse(\"lactase.fasta\", \"fasta\"))"
   ]
  },
  {
   "cell_type": "code",
   "execution_count": 7,
   "metadata": {},
   "outputs": [
    {
     "name": "stdout",
     "output_type": "stream",
     "text": [
      "[SeqRecord(seq=Seq('AACAGTTCCTAGAAAATGGAGCTGTCTTGGCATGTAGTCTTTATTGCCCTGCTA...GTC'), id='NM_002299.4', name='NM_002299.4', description='NM_002299.4 Homo sapiens lactase (LCT), mRNA', dbxrefs=[])]\n",
      "[SeqRecord(seq=Seq('AACAGTTCCTAGAAAATGGAGCTGTCTTGGCATGTAGTCTTTATTGCCCTGCTA...GTC'), id='NM_002299.4', name='NM_002299.4', description='NM_002299.4 Homo sapiens lactase (LCT), mRNA', dbxrefs=[])]\n"
     ]
    }
   ],
   "source": [
    "# La variable lactase contiene el FASTA leido, la variable recs contiene el FASTA descargado (son iguales)\n",
    "print(lactase)\n",
    "print(recs)"
   ]
  },
  {
   "cell_type": "code",
   "execution_count": 8,
   "metadata": {},
   "outputs": [
    {
     "name": "stdout",
     "output_type": "stream",
     "text": [
      "AACAGTTCCTAGAAAATGGAGCTGTCTTGGCATGTAGTCTTTATTGCCCTGCTAAGTTTTTCATGCTGGGGGTCAGACTGGGAGTCTGATAGAAATTTCATTTCCACCGCTGGTCCTCTAACCAATGACTTGCTGCACAACCTGAGTGGTCTCCTGGGAGACCAGAGTTCTAACTTTGTAGCAGGGGACAAAGACATGTATGTTTGTCACCAGCCACTGCCCACTTTCCTGCCAGAATACTTCAGCAGTCTCCATGCCAGTCAGATCACCCATTATAAGGTATTTCTGTCATGGGCACAGCTCCTCCCAGCAGGAAGCACCCAGAATCCAGACGAGAAAACAGTGCAGTGCTACCGGCGACTCCTCAAGGCCCTCAAGACTGCACGGCTTCAGCCCATGGTCATCCTGCACCACCAGACCCTCCCTGCCAGCACCCTCCGGAGAACCGAAGCCTTTGCTGACCTCTTCGCCGACTATGCCACATTCGCCTTCCACTCCTTCGGGGACCTAGTTGGGATCTGGTTCACCTTCAGTGACTTGGAGGAAGTGATCAAGGAGCTTCCCCACCAGGAATCAAGAGCGTCACAACTCCAGACCCTCAGTGATGCCCACAGAAAAGCCTATGAGATTTACCACGAAAGCTATGCTTTTCAGGGCGGAAAACTCTCTGTTGTCCTGCGAGCTGAAGATATCCCGGAGCTCCTGCTAGAACCACCCATATCTGCGCTTGCCCAGGACACGGTCGATTTCCTCTCTCTTGATTTGTCTTATGAATGCCAAAATGAGGCAAGTCTGCGGCAGAAGCTGAGTAAATTGCAGACCATTGAGCCAAAAGTGAAAGTTTTCATCTTCAACCTAAAACTCCCAGACTGCCCCTCCACCATGAAGAACCCAGCCAGTCTGCTCTTCAGCCTTTTTGAAGCCATAAATAAAGACCAAGTGCTCACCATTGGGTTTGATATTAATGAGTTTCTGAGTTGTTCATCAAGTTCCAAGAAAAGCATGTCTTGTTCTCTGACTGGCAGCCTGGCCCTTCAGCCTGACCAGCAGCAGGACCACGAGACCACGGACTCCTCTCCTGCCTCTGCCTATCAGAGAATCTGGGAAGCATTTGCCAATCAGTCCAGGGCGGAAAGGGATGCCTTCCTGCAGGATACTTTCCCTGAAGGCTTCCTCTGGGGTGCCTCCACAGGAGCCTTTAACGTGGAAGGAGGCTGGGCCGAGGGTGGGAGAGGGGTGAGCATCTGGGATCCACGCAGGCCCCTGAACACCACTGAGGGCCAAGCGACGCTGGAGGTGGCCAGCGACAGTTACCACAAGGTAGCCTCTGACGTCGCCCTGCTTTGCGGCCTCCGGGCTCAGGTGTACAAGTTCTCCATCTCCTGGTCCCGGATCTTCCCCATGGGGCACGGGAGCAGCCCCAGCCTCCCAGGCGTTGCCTACTACAACAAGCTGATTGACAGGCTACAGGATGCGGGCATCGAGCCCATGGCCACGCTGTTCCACTGGGACCTGCCTCAGGCCCTGCAGGATCATGGTGGATGGCAGAATGAGAGCGTGGTGGATGCCTTCCTGGACTATGCGGCCTTCTGCTTCTCCACATTTGGGGACCGTGTGAAGCTGTGGGTGACCTTCCATGAGCCGTGGGTGATGAGCTACGCAGGCTATGGCACCGGCCAGCACCCTCCCGGCATCTCTGACCCAGGAGTGGCCTCTTTTAAGGTGGCTCACTTGGTCCTCAAGGCTCATGCCAGAACTTGGCACCACTACAACAGCCATCATCGCCCACAGCAGCAGGGGCACGTGGGCATTGTGCTGAACTCAGACTGGGCAGAACCCCTGTCTCCAGAGAGGCCTGAGGACCTGAGAGCCTCTGAGCGCTTCTTGCACTTCATGCTGGGCTGGTTTGCACACCCCGTCTTTGTGGATGGAGACTACCCAGCCACCCTGAGGACCCAGATCCAACAGATGAACAGACAGTGCTCCCATCCTGTGGCTCAACTCCCCGAGTTCACAGAGGCAGAGAAGCAGCTCCTGAAAGGCTCTGCTGATTTTCTGGGTCTGTCGCATTACACCTCCCGCCTCATCAGCAACGCCCCACAAAACACCTGCATCCCTAGCTATGATACCATTGGAGGCTTCTCCCAACACGTGAACCATGTGTGGCCCCAGACCTCATCCTCTTGGATTCGTGTGGTGCCCTGGGGGATAAGGAGGCTGTTGCAGTTTGTATCCCTGGAATACACAAGAGGAAAAGTTCCAATATACCTTGCCGGGAATGGCATGCCCATAGGGGAAAGTGAAAATCTCTTTGATGATTCCTTAAGAGTAGACTACTTCAATCAATATATCAATGAGGTGCTCAAGGCTATCAAGGAAGACTCTGTGGATGTTCGTTCCTACATTGCTCGTTCCCTCATTGATGGCTTCGAAGGCCCTTCTGGTTACAGCCAGCGGTTTGGCCTGCACCACGTCAACTTCAGCGACAGCAGCAAGTCAAGGACTCCCAGGAAATCTGCCTACTTTTTCACTAGCATCATAGAAAAGAACGGTTTCCTCACCAAGGGGGCAAAAAGACTGCTACCACCTAATACAGTAAACCTCCCCTCCAAAGTCAGAGCCTTCACTTTTCCATCTGAGGTGCCCTCCAAGGCTAAAGTCGTTTGGGAAAAGTTCTCCAGCCAACCCAAGTTCGAAAGAGATTTGTTCTACCACGGGACGTTTCGGGATGACTTTCTGTGGGGCGTGTCCTCTTCCGCTTATCAGATTGAAGGCGCGTGGGATGCCGATGGCAAAGGCCCCAGCATCTGGGATAACTTTACCCACACACCAGGGAGCAATGTGAAAGACAATGCCACTGGAGACATCGCCTGTGACAGCTATCACCAGCTGGATGCCGATCTGAATATGCTCCGAGCTTTGAAGGTGAAGGCCTACCGCTTCTCTATCTCCTGGTCTCGGATTTTCCCAACTGGGAGAAACAGCTCTATCAACAGTCATGGGGTTGATTATTACAACAGGCTGATCAATGGCTTGGTGGCAAGCAACATCTTTCCCATGGTGACATTGTTCCATTGGGACCTGCCCCAGGCCCTCCAGGATATCGGAGGCTGGGAGAATCCTGCCTTGATTGACTTGTTTGACAGCTACGCAGACTTTTGTTTCCAGACCTTTGGTGATAGAGTCAAGTTTTGGATGACTTTTAATGAGCCCATGTACCTGGCATGGCTAGGTTATGGCTCAGGGGAATTTCCCCCAGGGGTGAAGGACCCAGGCTGGGCACCATATAGGATAGCCCACGCCGTCATCAAAGCCCATGCCAGAGTCTATCACACGTACGATGAGAAATACAGGCAGGAGCAGAAGGGGGTCATCTCGCTGAGCCTCAGTACACACTGGGCAGAGCCCAAGTCACCAGGGGTCCCCAGAGATGTGGAAGCCGCTGACCGAATGCTGCAGTTCTCCCTGGGCTGGTTTGCTCACCCCATTTTTAGAAACGGAGACTATCCTGACACCATGAAGTGGAAAGTGGGGAACAGGAGTGAACTGCAGCACTTAGCCACCTCCCGCCTGCCAAGCTTCACTGAGGAAGAGAAGAGGTTCATCAGGGCGACGGCCGACGTCTTCTGCCTCAACACGTACTACTCCAGAATCGTGCAGCACAAAACACCCAGGCTAAACCCACCCTCCTACGAAGACGACCAGGAGATGGCTGAGGAGGAGGACCCTTCGTGGCCTTCCACGGCAATGAACAGAGCTGCGCCCTGGGGGACGCGAAGGCTGCTGAACTGGATCAAGGAAGAGTATGGTGACATCCCCATTTACATCACCGAAAACGGAGTGGGGCTGACCAATCCGAACACGGAGGATACTGATAGGATATTTTACCACAAAACCTACATCAATGAGGCTTTGAAAGCCTACAGGCTCGATGGTATAGACCTTCGAGGGTATGTCGCCTGGTCTCTGATGGACAACTTTGAGTGGCTAAATGGCTACACGGTCAAGTTTGGACTGTACCATGTTGATTTCAACAACACGAACAGGCCTCGCACAGCAAGAGCCTCCGCCAGGTACTACACAGAGGTCATTACCAACAACGGCATGCCACTGGCCAGGGAGGATGAGTTTCTGTACGGACGGTTTCCTGAGGGCTTCATCTGGAGTGCAGCTTCTGCTGCATATCAGATTGAAGGTGCGTGGAGAGCAGATGGCAAAGGACTCAGCATTTGGGACACGTTTTCTCACACACCACTGAGGGTTGAGAACGATGCCATTGGAGACGTGGCCTGTGACAGTTATCACAAGATTGCTGAGGATCTGGTCACCCTGCAGAACCTGGGCGTGTCCCACTACCGTTTTTCCATCTCCTGGTCTCGCATCCTCCCTGATGGAACCACCAGGTACATCAATGAAGCGGGCCTGAACTACTACGTGAGGCTCATCGATACACTGCTGGCCGCCAGCATCCAGCCCCAGGTGACCATTTACCACTGGGACCTACCACAGACGCTCCAAGATGTAGGAGGCTGGGAGAATGAGACCATCGTGCAGCGGTTTAAGGAGTATGCAGATGTGCTCTTCCAGAGGCTGGGAGACAAGGTGAAGTTTTGGATCACGCTGAATGAGCCCTTTGTCATTGCTTACCAGGGCTATGGCTACGGAACAGCAGCTCCAGGAGTCTCCAATAGGCCTGGCACTGCCCCCTACATTGTTGGCCACAATCTAATAAAGGCTCATGCTGAGGCCTGGCATCTGTACAACGATGTGTACCGCGCCAGTCAAGGTGGCGTGATTTCCATCACCATCAGCAGTGACTGGGCTGAACCCAGAGATCCCTCTAACCAGGAGGATGTGGAGGCAGCCAGGAGATATGTTCAGTTCATGGGAGGCTGGTTTGCACATCCTATTTTCAAGAATGGAGATTACAATGAGGTGATGAAGACGCGGATCCGTGACAGGAGCTTGGCTGCAGGCCTCAACAAGTCTCGGCTGCCAGAATTTACAGAGAGTGAGAAGAGGAGGATCAACGGCACCTATGACTTTTTTGGGTTCAATCACTACACCACTGTCCTCGCCTACAACCTCAACTATGCCACTGCCATCTCTTCTTTTGATGCAGACAGAGGAGTTGCTTCCATCGCAGATCGCTCGTGGCCAGACTCTGGCTCCTTCTGGCTGAAGATGACGCCTTTTGGCTTCAGGAGGATCCTGAACTGGTTAAAGGAGGAATACAATGACCCTCCAATTTATGTCACAGAGAATGGAGTGTCCCAGCGGGAAGAAACAGACCTCAATGACACTGCAAGGATCTACTACCTTCGGACTTACATCAATGAGGCCCTCAAAGCTGTGCAGGACAAGGTGGACCTTCGAGGATACACAGTTTGGAGTGCGATGGACAATTTTGAGTGGGCCACAGGCTTTTCAGAGAGATTTGGTCTGCATTTTGTGAACTACAGTGACCCTTCTCTGCCAAGGATCCCCAAAGCATCAGCGAAGTTCTACGCCTCTGTGGTCCGATGCAATGGCTTCCCTGACCCCGCTACAGGGCCTCACGCTTGTCTCCACCAGCCAGATGCTGGACCCACCATCAGCCCCGTGAGACAGGAGGAGGTGCAGTTCCTGGGGCTAATGCTCGGCACCACAGAAGCACAGACAGCTTTGTACGTTCTCTTTTCTCTTGTGCTTCTTGGAGTCTGTGGCTTGGCATTTCTGTCATACAAGTACTGCAAGCGCTCTAAGCAAGGGAAAACACAACGAAGCCAACAGGAATTGAGCCCGGTGTCTTCATTCTGATGAGTTACCACCTCAAGTTCTATGAAGCAGGCCTAGTTTCTTCATCTATGTTTACCGGCCACCAAACACCTTAGGGTCTTAGACTCTGCTGATACTGGACTTCTCCATAAAGTCCTGCTGCACCGTTAGAGATGACTTTAATCTTGAATGATTTCGACTTGCTGAGTAAAATGGAAATATCTCCATCTTGCTCCAGTATCAGAGTTCATTTGGGCATTTGAGAAGCAAGTAGCTCTTGCGGAAACGTGTAGATACTGGTCTAGTGGGTCTGTGAACCACTTAATTGAACTTAACAGGGCTGTTTTAAGTTTCAGAGTTGTTAAGGGTTGTTAAGGGAGCAAAAACCGTAAAAATCCTTCCTATAAGAAGAAATCAACTCCATTGCATAGACTGCAATATCATCTCCTGCCCTTCTGCAAGCTCTCCCTAGCTTCACATCTTGTGTTTTCCAGAAAATAAAAACAGCAGACTGTC\n"
     ]
    }
   ],
   "source": [
    "#Entonces, para trabajar con la sequencia de la lactasa directamente partiríamos del objeto creado por SeqIO\n",
    "#y usaríamos sobre él el método .seq: lo transforma en objeto seq\n",
    "## el paqueye seq, se usa objeto.paquete\n",
    "lactase_sequence = lactase[0].seq\n",
    "##acedo al elemento 0, que tiene varia info (mirar el print de arriba), y me quedo con sec\n",
    "\n",
    "#ahora, lactase_sequence es un objeto especial de clase Seq\n",
    "# https://biopython.org/wiki/Seq\n",
    "print(lactase_sequence)"
   ]
  },
  {
   "cell_type": "code",
   "execution_count": 15,
   "metadata": {},
   "outputs": [
    {
     "name": "stdout",
     "output_type": "stream",
     "text": [
      "GACAGTCTGCTGTTTTTATTTTCTGGAAAACACAAGATGTGAAGCTAGGGAGAGCTTGCAGAAGGGCAGGAGATGATATTGCAGTCTATGCAATGGAGTTGATTTCTTCTTATAGGAAGGATTTTTACGGTTTTTGCTCCCTTAACAACCCTTAACAACTCTGAAACTTAAAACAGCCCTGTTAAGTTCAATTAAGTGGTTCACAGACCCACTAGACCAGTATCTACACGTTTCCGCAAGAGCTACTTGCTTCTCAAATGCCCAAATGAACTCTGATACTGGAGCAAGATGGAGATATTTCCATTTTACTCAGCAAGTCGAAATCATTCAAGATTAAAGTCATCTCTAACGGTGCAGCAGGACTTTATGGAGAAGTCCAGTATCAGCAGAGTCTAAGACCCTAAGGTGTTTGGTGGCCGGTAAACATAGATGAAGAAACTAGGCCTGCTTCATAGAACTTGAGGTGGTAACTCATCAGAATGAAGACACCGGGCTCAATTCCTGTTGGCTTCGTTGTGTTTTCCCTTGCTTAGAGCGCTTGCAGTACTTGTATGACAGAAATGCCAAGCCACAGACTCCAAGAAGCACAAGAGAAAAGAGAACGTACAAAGCTGTCTGTGCTTCTGTGGTGCCGAGCATTAGCCCCAGGAACTGCACCTCCTCCTGTCTCACGGGGCTGATGGTGGGTCCAGCATCTGGCTGGTGGAGACAAGCGTGAGGCCCTGTAGCGGGGTCAGGGAAGCCATTGCATCGGACCACAGAGGCGTAGAACTTCGCTGATGCTTTGGGGATCCTTGGCAGAGAAGGGTCACTGTAGTTCACAAAATGCAGACCAAATCTCTCTGAAAAGCCTGTGGCCCACTCAAAATTGTCCATCGCACTCCAAACTGTGTATCCTCGAAGGTCCACCTTGTCCTGCACAGCTTTGAGGGCCTCATTGATGTAAGTCCGAAGGTAGTAGATCCTTGCAGTGTCATTGAGGTCTGTTTCTTCCCGCTGGGACACTCCATTCTCTGTGACATAAATTGGAGGGTCATTGTATTCCTCCTTTAACCAGTTCAGGATCCTCCTGAAGCCAAAAGGCGTCATCTTCAGCCAGAAGGAGCCAGAGTCTGGCCACGAGCGATCTGCGATGGAAGCAACTCCTCTGTCTGCATCAAAAGAAGAGATGGCAGTGGCATAGTTGAGGTTGTAGGCGAGGACAGTGGTGTAGTGATTGAACCCAAAAAAGTCATAGGTGCCGTTGATCCTCCTCTTCTCACTCTCTGTAAATTCTGGCAGCCGAGACTTGTTGAGGCCTGCAGCCAAGCTCCTGTCACGGATCCGCGTCTTCATCACCTCATTGTAATCTCCATTCTTGAAAATAGGATGTGCAAACCAGCCTCCCATGAACTGAACATATCTCCTGGCTGCCTCCACATCCTCCTGGTTAGAGGGATCTCTGGGTTCAGCCCAGTCACTGCTGATGGTGATGGAAATCACGCCACCTTGACTGGCGCGGTACACATCGTTGTACAGATGCCAGGCCTCAGCATGAGCCTTTATTAGATTGTGGCCAACAATGTAGGGGGCAGTGCCAGGCCTATTGGAGACTCCTGGAGCTGCTGTTCCGTAGCCATAGCCCTGGTAAGCAATGACAAAGGGCTCATTCAGCGTGATCCAAAACTTCACCTTGTCTCCCAGCCTCTGGAAGAGCACATCTGCATACTCCTTAAACCGCTGCACGATGGTCTCATTCTCCCAGCCTCCTACATCTTGGAGCGTCTGTGGTAGGTCCCAGTGGTAAATGGTCACCTGGGGCTGGATGCTGGCGGCCAGCAGTGTATCGATGAGCCTCACGTAGTAGTTCAGGCCCGCTTCATTGATGTACCTGGTGGTTCCATCAGGGAGGATGCGAGACCAGGAGATGGAAAAACGGTAGTGGGACACGCCCAGGTTCTGCAGGGTGACCAGATCCTCAGCAATCTTGTGATAACTGTCACAGGCCACGTCTCCAATGGCATCGTTCTCAACCCTCAGTGGTGTGTGAGAAAACGTGTCCCAAATGCTGAGTCCTTTGCCATCTGCTCTCCACGCACCTTCAATCTGATATGCAGCAGAAGCTGCACTCCAGATGAAGCCCTCAGGAAACCGTCCGTACAGAAACTCATCCTCCCTGGCCAGTGGCATGCCGTTGTTGGTAATGACCTCTGTGTAGTACCTGGCGGAGGCTCTTGCTGTGCGAGGCCTGTTCGTGTTGTTGAAATCAACATGGTACAGTCCAAACTTGACCGTGTAGCCATTTAGCCACTCAAAGTTGTCCATCAGAGACCAGGCGACATACCCTCGAAGGTCTATACCATCGAGCCTGTAGGCTTTCAAAGCCTCATTGATGTAGGTTTTGTGGTAAAATATCCTATCAGTATCCTCCGTGTTCGGATTGGTCAGCCCCACTCCGTTTTCGGTGATGTAAATGGGGATGTCACCATACTCTTCCTTGATCCAGTTCAGCAGCCTTCGCGTCCCCCAGGGCGCAGCTCTGTTCATTGCCGTGGAAGGCCACGAAGGGTCCTCCTCCTCAGCCATCTCCTGGTCGTCTTCGTAGGAGGGTGGGTTTAGCCTGGGTGTTTTGTGCTGCACGATTCTGGAGTAGTACGTGTTGAGGCAGAAGACGTCGGCCGTCGCCCTGATGAACCTCTTCTCTTCCTCAGTGAAGCTTGGCAGGCGGGAGGTGGCTAAGTGCTGCAGTTCACTCCTGTTCCCCACTTTCCACTTCATGGTGTCAGGATAGTCTCCGTTTCTAAAAATGGGGTGAGCAAACCAGCCCAGGGAGAACTGCAGCATTCGGTCAGCGGCTTCCACATCTCTGGGGACCCCTGGTGACTTGGGCTCTGCCCAGTGTGTACTGAGGCTCAGCGAGATGACCCCCTTCTGCTCCTGCCTGTATTTCTCATCGTACGTGTGATAGACTCTGGCATGGGCTTTGATGACGGCGTGGGCTATCCTATATGGTGCCCAGCCTGGGTCCTTCACCCCTGGGGGAAATTCCCCTGAGCCATAACCTAGCCATGCCAGGTACATGGGCTCATTAAAAGTCATCCAAAACTTGACTCTATCACCAAAGGTCTGGAAACAAAAGTCTGCGTAGCTGTCAAACAAGTCAATCAAGGCAGGATTCTCCCAGCCTCCGATATCCTGGAGGGCCTGGGGCAGGTCCCAATGGAACAATGTCACCATGGGAAAGATGTTGCTTGCCACCAAGCCATTGATCAGCCTGTTGTAATAATCAACCCCATGACTGTTGATAGAGCTGTTTCTCCCAGTTGGGAAAATCCGAGACCAGGAGATAGAGAAGCGGTAGGCCTTCACCTTCAAAGCTCGGAGCATATTCAGATCGGCATCCAGCTGGTGATAGCTGTCACAGGCGATGTCTCCAGTGGCATTGTCTTTCACATTGCTCCCTGGTGTGTGGGTAAAGTTATCCCAGATGCTGGGGCCTTTGCCATCGGCATCCCACGCGCCTTCAATCTGATAAGCGGAAGAGGACACGCCCCACAGAAAGTCATCCCGAAACGTCCCGTGGTAGAACAAATCTCTTTCGAACTTGGGTTGGCTGGAGAACTTTTCCCAAACGACTTTAGCCTTGGAGGGCACCTCAGATGGAAAAGTGAAGGCTCTGACTTTGGAGGGGAGGTTTACTGTATTAGGTGGTAGCAGTCTTTTTGCCCCCTTGGTGAGGAAACCGTTCTTTTCTATGATGCTAGTGAAAAAGTAGGCAGATTTCCTGGGAGTCCTTGACTTGCTGCTGTCGCTGAAGTTGACGTGGTGCAGGCCAAACCGCTGGCTGTAACCAGAAGGGCCTTCGAAGCCATCAATGAGGGAACGAGCAATGTAGGAACGAACATCCACAGAGTCTTCCTTGATAGCCTTGAGCACCTCATTGATATATTGATTGAAGTAGTCTACTCTTAAGGAATCATCAAAGAGATTTTCACTTTCCCCTATGGGCATGCCATTCCCGGCAAGGTATATTGGAACTTTTCCTCTTGTGTATTCCAGGGATACAAACTGCAACAGCCTCCTTATCCCCCAGGGCACCACACGAATCCAAGAGGATGAGGTCTGGGGCCACACATGGTTCACGTGTTGGGAGAAGCCTCCAATGGTATCATAGCTAGGGATGCAGGTGTTTTGTGGGGCGTTGCTGATGAGGCGGGAGGTGTAATGCGACAGACCCAGAAAATCAGCAGAGCCTTTCAGGAGCTGCTTCTCTGCCTCTGTGAACTCGGGGAGTTGAGCCACAGGATGGGAGCACTGTCTGTTCATCTGTTGGATCTGGGTCCTCAGGGTGGCTGGGTAGTCTCCATCCACAAAGACGGGGTGTGCAAACCAGCCCAGCATGAAGTGCAAGAAGCGCTCAGAGGCTCTCAGGTCCTCAGGCCTCTCTGGAGACAGGGGTTCTGCCCAGTCTGAGTTCAGCACAATGCCCACGTGCCCCTGCTGCTGTGGGCGATGATGGCTGTTGTAGTGGTGCCAAGTTCTGGCATGAGCCTTGAGGACCAAGTGAGCCACCTTAAAAGAGGCCACTCCTGGGTCAGAGATGCCGGGAGGGTGCTGGCCGGTGCCATAGCCTGCGTAGCTCATCACCCACGGCTCATGGAAGGTCACCCACAGCTTCACACGGTCCCCAAATGTGGAGAAGCAGAAGGCCGCATAGTCCAGGAAGGCATCCACCACGCTCTCATTCTGCCATCCACCATGATCCTGCAGGGCCTGAGGCAGGTCCCAGTGGAACAGCGTGGCCATGGGCTCGATGCCCGCATCCTGTAGCCTGTCAATCAGCTTGTTGTAGTAGGCAACGCCTGGGAGGCTGGGGCTGCTCCCGTGCCCCATGGGGAAGATCCGGGACCAGGAGATGGAGAACTTGTACACCTGAGCCCGGAGGCCGCAAAGCAGGGCGACGTCAGAGGCTACCTTGTGGTAACTGTCGCTGGCCACCTCCAGCGTCGCTTGGCCCTCAGTGGTGTTCAGGGGCCTGCGTGGATCCCAGATGCTCACCCCTCTCCCACCCTCGGCCCAGCCTCCTTCCACGTTAAAGGCTCCTGTGGAGGCACCCCAGAGGAAGCCTTCAGGGAAAGTATCCTGCAGGAAGGCATCCCTTTCCGCCCTGGACTGATTGGCAAATGCTTCCCAGATTCTCTGATAGGCAGAGGCAGGAGAGGAGTCCGTGGTCTCGTGGTCCTGCTGCTGGTCAGGCTGAAGGGCCAGGCTGCCAGTCAGAGAACAAGACATGCTTTTCTTGGAACTTGATGAACAACTCAGAAACTCATTAATATCAAACCCAATGGTGAGCACTTGGTCTTTATTTATGGCTTCAAAAAGGCTGAAGAGCAGACTGGCTGGGTTCTTCATGGTGGAGGGGCAGTCTGGGAGTTTTAGGTTGAAGATGAAAACTTTCACTTTTGGCTCAATGGTCTGCAATTTACTCAGCTTCTGCCGCAGACTTGCCTCATTTTGGCATTCATAAGACAAATCAAGAGAGAGGAAATCGACCGTGTCCTGGGCAAGCGCAGATATGGGTGGTTCTAGCAGGAGCTCCGGGATATCTTCAGCTCGCAGGACAACAGAGAGTTTTCCGCCCTGAAAAGCATAGCTTTCGTGGTAAATCTCATAGGCTTTTCTGTGGGCATCACTGAGGGTCTGGAGTTGTGACGCTCTTGATTCCTGGTGGGGAAGCTCCTTGATCACTTCCTCCAAGTCACTGAAGGTGAACCAGATCCCAACTAGGTCCCCGAAGGAGTGGAAGGCGAATGTGGCATAGTCGGCGAAGAGGTCAGCAAAGGCTTCGGTTCTCCGGAGGGTGCTGGCAGGGAGGGTCTGGTGGTGCAGGATGACCATGGGCTGAAGCCGTGCAGTCTTGAGGGCCTTGAGGAGTCGCCGGTAGCACTGCACTGTTTTCTCGTCTGGATTCTGGGTGCTTCCTGCTGGGAGGAGCTGTGCCCATGACAGAAATACCTTATAATGGGTGATCTGACTGGCATGGAGACTGCTGAAGTATTCTGGCAGGAAAGTGGGCAGTGGCTGGTGACAAACATACATGTCTTTGTCCCCTGCTACAAAGTTAGAACTCTGGTCTCCCAGGAGACCACTCAGGTTGTGCAGCAAGTCATTGGTTAGAGGACCAGCGGTGGAAATGAAATTTCTATCAGACTCCCAGTCTGACCCCCAGCATGAAAAACTTAGCAGGGCAATAAAGACTACATGCCAAGACAGCTCCATTTTCTAGGAACTGTT\n"
     ]
    }
   ],
   "source": [
    "# La clase Seq tiene diversos metodos, por ejemplo:\n",
    "# Para obtener la hebra inversa complementaria se puede usar el metodo reverse_complement()\n",
    "print(lactase_sequence.reverse_complement())"
   ]
  },
  {
   "cell_type": "code",
   "execution_count": 16,
   "metadata": {},
   "outputs": [
    {
     "name": "stdout",
     "output_type": "stream",
     "text": [
      "6273\n"
     ]
    }
   ],
   "source": [
    "#Se parecen a las string, se calcula su longitud con len y se accede a subsecuencias con []\n",
    "# Longitud de la secuencia\n",
    "print(len(lactase_sequence))"
   ]
  },
  {
   "cell_type": "code",
   "execution_count": 17,
   "metadata": {},
   "outputs": [
    {
     "data": {
      "text/plain": [
       "Seq('AAC')"
      ]
     },
     "execution_count": 17,
     "metadata": {},
     "output_type": "execute_result"
    }
   ],
   "source": [
    "# Subsecuencia\n",
    "lactase_sequence[0:3]"
   ]
  },
  {
   "cell_type": "code",
   "execution_count": 32,
   "metadata": {},
   "outputs": [
    {
     "data": {
      "text/plain": [
       "52.239757691694564"
      ]
     },
     "execution_count": 32,
     "metadata": {},
     "output_type": "execute_result"
    }
   ],
   "source": [
    "#Contenido en GC\n",
    "##esto es un library, desde el paquete bio.SeqUtils, importa el paquete GC.\n",
    "from Bio.SeqUtils import GC\n",
    "GC(lactase_sequence)"
   ]
  },
  {
   "cell_type": "markdown",
   "metadata": {},
   "source": [
    "## Ejercicio 1:"
   ]
  },
  {
   "cell_type": "code",
   "execution_count": null,
   "metadata": {},
   "outputs": [],
   "source": [
    "\n",
    "#get_multinomial_model(lactase_sequence)"
   ]
  },
  {
   "cell_type": "markdown",
   "metadata": {},
   "source": [
    "* Descargar de la NCBI mediante Biopython el genoma del lamda fago (NC_001416).\n",
    "* Salva el genoma en un fichero FASTA"
   ]
  },
  {
   "cell_type": "code",
   "execution_count": 29,
   "metadata": {},
   "outputs": [],
   "source": [
    "lamda_hdl = Entrez.efetch(db='nucleotide', id=['NC_001416'], rettype='fasta')  "
   ]
  },
  {
   "cell_type": "code",
   "execution_count": 30,
   "metadata": {},
   "outputs": [
    {
     "name": "stdout",
     "output_type": "stream",
     "text": [
      "[SeqRecord(seq=Seq('GGGCGGCGACCTCGCGGGTTTTCGCTATTTATGAAAATTTTCCGGTTTAAGGCG...ACG'), id='NC_001416.1', name='NC_001416.1', description='NC_001416.1 Enterobacteria phage lambda, complete genome', dbxrefs=[])]\n"
     ]
    }
   ],
   "source": [
    "lamda = list(SeqIO.parse(lamda_hdl, 'fasta'))\n",
    "print(lamda)"
   ]
  },
  {
   "cell_type": "code",
   "execution_count": 31,
   "metadata": {},
   "outputs": [
    {
     "data": {
      "text/plain": [
       "Seq('GGGCGGCGACCTCGCGGGTTTTCGCTATTTATGAAAATTTTCCGGTTTAAGGCG...ACG')"
      ]
     },
     "execution_count": 31,
     "metadata": {},
     "output_type": "execute_result"
    }
   ],
   "source": [
    "lamda_seq = lamda[0].seq\n",
    "lamda_seq"
   ]
  },
  {
   "cell_type": "markdown",
   "metadata": {},
   "source": [
    "* ¿Cual es la longitud de la secuencia?\n",
    "* Crea una función llamada *get_multinomial_model* que calcule el modelo multinomial\n",
    "* ¿Cual es su modelo multinomial?\n",
    "* ¿Cual es su contenido en GC?"
   ]
  },
  {
   "cell_type": "code",
   "execution_count": 29,
   "metadata": {},
   "outputs": [
    {
     "data": {
      "text/plain": [
       "48502"
      ]
     },
     "execution_count": 29,
     "metadata": {},
     "output_type": "execute_result"
    }
   ],
   "source": [
    "len(lamda_seq)"
   ]
  },
  {
   "cell_type": "code",
   "execution_count": 9,
   "metadata": {},
   "outputs": [],
   "source": [
    "def get_multinomial_model(secuencia):\n",
    "    dic={\"A\":0, \"C\":0, \"G\":0, \"T\":0}\n",
    "    for n in secuencia:\n",
    "        dic[n]+=1\n",
    "    for n in dic:\n",
    "        dic[n]/=len(secuencia)\n",
    "    return(dic)"
   ]
  },
  {
   "cell_type": "code",
   "execution_count": 30,
   "metadata": {},
   "outputs": [
    {
     "data": {
      "text/plain": [
       "{'A': 0.2542987918023999,\n",
       " 'C': 0.23425838109768668,\n",
       " 'G': 0.2643189971547565,\n",
       " 'T': 0.24712382994515691}"
      ]
     },
     "execution_count": 30,
     "metadata": {},
     "output_type": "execute_result"
    }
   ],
   "source": [
    "get_multinomial_model(lamda_seq)"
   ]
  },
  {
   "cell_type": "code",
   "execution_count": 33,
   "metadata": {},
   "outputs": [
    {
     "data": {
      "text/plain": [
       "49.85773782524432"
      ]
     },
     "execution_count": 33,
     "metadata": {},
     "output_type": "execute_result"
    }
   ],
   "source": [
    "GC(lamda_seq)"
   ]
  },
  {
   "cell_type": "markdown",
   "metadata": {},
   "source": [
    "## Ejercicio 2:\n",
    "\n",
    "* Implementa una función para calcular el contenido local en GC de una secuencia (revisar apuntes de IAB)\n",
    "* Aplica la función al genoma del lambda fago con una longitud de ventana de 10000 y un desplazamiento de 1000"
   ]
  },
  {
   "cell_type": "code",
   "execution_count": 26,
   "metadata": {},
   "outputs": [],
   "source": [
    "# este es el pseudocodigo para R, tenemos que adaptarlo\n",
    "#Entrada: Un vector que representa una secuencia de DNA (dna.sequence), la longitud de la\n",
    "# ventana(window.length) y el desplazamiento (offset)\n",
    "#Paso 1: Inicialización de variables antes del bucle:\n",
    "# lowest ← 1\n",
    "# highest ← window.length\n",
    "# local.GC ← numeric(0)\n",
    "# positions ← numeric(0)\n",
    "# i ← 1\n",
    "#Paso 2: Mientras highest <= length(dna.sequence)\n",
    "# Guardar valor local: local.GC[i] ← GC(dna.sequence[lowest:highest])\n",
    "# Guardar posición actual: positions[i] ← lowest\n",
    "# Actualizar ventana: lowest ← lowest + offset\n",
    "# highest ← highest + offset\n",
    "# i ← i + 1\n",
    "#Paso 3: Devolver result una lista con local.GC y positions.\n",
    "\n",
    "#Devolviendo una lista\n",
    "\n",
    "#Devolviendo un diccionario\n"
   ]
  },
  {
   "cell_type": "code",
   "execution_count": 105,
   "metadata": {},
   "outputs": [],
   "source": [
    "def get_local_GC(seq, window_length, offset):\n",
    "    lowest = 0\n",
    "    highest = window_length\n",
    "    local_GC = []\n",
    "    while highest < len(seq):\n",
    "        local_GC.append((GC(seq[lowest:highest]), lowest))\n",
    "        lowest+=offset\n",
    "        highest+=offset\n",
    "    return local_GC\n",
    "\n",
    "def get_local_GC_1(seq, window_length, offset):\n",
    "    lowest = 0\n",
    "    highest = window_length\n",
    "    local_GC = {}\n",
    "    while highest < len(seq):\n",
    "        local_GC[lowest] = GC(seq[lowest:highest])\n",
    "        lowest+=offset\n",
    "        highest+=offset\n",
    "    return local_GC\n",
    "\n",
    "\n"
   ]
  },
  {
   "cell_type": "code",
   "execution_count": 42,
   "metadata": {},
   "outputs": [
    {
     "data": {
      "text/plain": [
       "[(56.46, 0),\n",
       " (57.1, 1000),\n",
       " (57.49, 2000),\n",
       " (57.88, 3000),\n",
       " (57.78, 4000),\n",
       " (57.59, 5000),\n",
       " (57.27, 6000),\n",
       " (57.61, 7000),\n",
       " (57.72, 8000),\n",
       " (57.53, 9000),\n",
       " (57.31, 10000),\n",
       " (57.4, 11000),\n",
       " (56.73, 12000),\n",
       " (55.07, 13000),\n",
       " (52.41, 14000),\n",
       " (50.62, 15000),\n",
       " (48.64, 16000),\n",
       " (46.31, 17000),\n",
       " (44.39, 18000),\n",
       " (43.51, 19000),\n",
       " (42.35, 20000),\n",
       " (41.2, 21000),\n",
       " (41.07, 22000),\n",
       " (41.95, 23000),\n",
       " (43.16, 24000),\n",
       " (43.13, 25000),\n",
       " (44.05, 26000),\n",
       " (44.64, 27000),\n",
       " (45.04, 28000),\n",
       " (45.08, 29000),\n",
       " (45.96, 30000),\n",
       " (46.22, 31000),\n",
       " (45.95, 32000),\n",
       " (45.79, 33000),\n",
       " (46.12, 34000),\n",
       " (47.07, 35000),\n",
       " (47.44, 36000),\n",
       " (47.94, 37000),\n",
       " (47.32, 38000)]"
      ]
     },
     "execution_count": 42,
     "metadata": {},
     "output_type": "execute_result"
    }
   ],
   "source": [
    "get_local_GC(lamda_seq,10000,1000)"
   ]
  },
  {
   "cell_type": "code",
   "execution_count": 106,
   "metadata": {},
   "outputs": [
    {
     "data": {
      "text/plain": [
       "[(56.46, 0),\n",
       " (57.1, 1000),\n",
       " (57.49, 2000),\n",
       " (57.88, 3000),\n",
       " (57.78, 4000),\n",
       " (57.59, 5000),\n",
       " (57.27, 6000),\n",
       " (57.61, 7000),\n",
       " (57.72, 8000),\n",
       " (57.53, 9000),\n",
       " (57.31, 10000),\n",
       " (57.4, 11000),\n",
       " (56.73, 12000),\n",
       " (55.07, 13000),\n",
       " (52.41, 14000),\n",
       " (50.62, 15000),\n",
       " (48.64, 16000),\n",
       " (46.31, 17000),\n",
       " (44.39, 18000),\n",
       " (43.51, 19000),\n",
       " (42.35, 20000),\n",
       " (41.2, 21000),\n",
       " (41.07, 22000),\n",
       " (41.95, 23000),\n",
       " (43.16, 24000),\n",
       " (43.13, 25000),\n",
       " (44.05, 26000),\n",
       " (44.64, 27000),\n",
       " (45.04, 28000),\n",
       " (45.08, 29000),\n",
       " (45.96, 30000),\n",
       " (46.22, 31000),\n",
       " (45.95, 32000),\n",
       " (45.79, 33000),\n",
       " (46.12, 34000),\n",
       " (47.07, 35000),\n",
       " (47.44, 36000),\n",
       " (47.94, 37000),\n",
       " (47.32, 38000)]"
      ]
     },
     "execution_count": 106,
     "metadata": {},
     "output_type": "execute_result"
    }
   ],
   "source": [
    "get_local_GC(lamda_seq,10000,1000)"
   ]
  },
  {
   "cell_type": "code",
   "execution_count": 44,
   "metadata": {},
   "outputs": [
    {
     "data": {
      "text/plain": [
       "{0: {56.46},\n",
       " 1000: {57.1},\n",
       " 2000: {57.49},\n",
       " 3000: {57.88},\n",
       " 4000: {57.78},\n",
       " 5000: {57.59},\n",
       " 6000: {57.27},\n",
       " 7000: {57.61},\n",
       " 8000: {57.72},\n",
       " 9000: {57.53},\n",
       " 10000: {57.31},\n",
       " 11000: {57.4},\n",
       " 12000: {56.73},\n",
       " 13000: {55.07},\n",
       " 14000: {52.41},\n",
       " 15000: {50.62},\n",
       " 16000: {48.64},\n",
       " 17000: {46.31},\n",
       " 18000: {44.39},\n",
       " 19000: {43.51},\n",
       " 20000: {42.35},\n",
       " 21000: {41.2},\n",
       " 22000: {41.07},\n",
       " 23000: {41.95},\n",
       " 24000: {43.16},\n",
       " 25000: {43.13},\n",
       " 26000: {44.05},\n",
       " 27000: {44.64},\n",
       " 28000: {45.04},\n",
       " 29000: {45.08},\n",
       " 30000: {45.96},\n",
       " 31000: {46.22},\n",
       " 32000: {45.95},\n",
       " 33000: {45.79},\n",
       " 34000: {46.12},\n",
       " 35000: {47.07},\n",
       " 36000: {47.44},\n",
       " 37000: {47.94},\n",
       " 38000: {47.32}}"
      ]
     },
     "execution_count": 44,
     "metadata": {},
     "output_type": "execute_result"
    }
   ],
   "source": [
    "get_local_GC_1(lamda_seq,10000,1000)"
   ]
  },
  {
   "cell_type": "markdown",
   "metadata": {},
   "source": [
    "## Ejercicio 5:\n",
    "\n",
    "* Implementa una función para calcular el modelo markoviano de una secuencia (revisar apuntes de IAB)\n",
    "* Aplica la función al genoma del lambda fago"
   ]
  },
  {
   "cell_type": "code",
   "execution_count": 65,
   "metadata": {},
   "outputs": [],
   "source": [
    "def count(seq):\n",
    "    conteo={}\n",
    "    nucleotidos=[\"A\", \"T\", \"C\", \"G\"]\n",
    "    for nt_1 in nucleotidos:\n",
    "        for nt_2 in nucleotidos:\n",
    "            dimero=nt_1+nt_2\n",
    "            conteo[dimero]= 0\n",
    "    for i in range(0, len(seq)-1):\n",
    "        key = seq[i] + seq[i+1]\n",
    "        conteo[key] += 1      \n",
    "    return(conteo)\n",
    "     \n",
    "        "
   ]
  },
  {
   "cell_type": "code",
   "execution_count": 66,
   "metadata": {},
   "outputs": [
    {
     "name": "stdout",
     "output_type": "stream",
     "text": [
      "{'AA': 3692, 'AT': 3337, 'AC': 2573, 'AG': 2732, 'TA': 2170, 'TT': 3345, 'TC': 2677, 'TG': 3794, 'CA': 3216, 'CT': 2536, 'CC': 2497, 'CG': 3113, 'GA': 3256, 'GT': 2768, 'GC': 3615, 'GG': 3180}\n"
     ]
    }
   ],
   "source": [
    "freq_abs = count(lamda_seq)\n",
    "print(freq_abs)"
   ]
  },
  {
   "cell_type": "code",
   "execution_count": 57,
   "metadata": {},
   "outputs": [],
   "source": [
    "def calcula_matriz (conteo):\n",
    "    dimero=sorted(list(conteo.keys()))\n",
    "    i=0\n",
    "    while i < (len(conteo)-3):\n",
    "        suma = conteo[dimero[i]] + conteo[dimero[i+1]] + conteo[dimero[i+2]] + conteo[dimero[i+3]]\n",
    "        conteo[dimero[i]] /= suma\n",
    "        conteo[dimero[i+1]] /= suma\n",
    "        conteo[dimero[i+2]] /= suma\n",
    "        conteo[dimero[i+3]] /= suma\n",
    "        i = i+4\n",
    "    return(conteo)\n"
   ]
  },
  {
   "cell_type": "code",
   "execution_count": 61,
   "metadata": {},
   "outputs": [
    {
     "name": "stdout",
     "output_type": "stream",
     "text": [
      "{'AA': 0.299335171071834, 'AT': 0.27055294308415767, 'AC': 0.20861034538673587, 'AG': 0.2215015404572726, 'TA': 0.18104455197730684, 'TT': 0.27907558818621725, 'TC': 0.22334390121808778, 'TG': 0.3165359586183881, 'CA': 0.28304875902129906, 'CT': 0.22320014082027811, 'CC': 0.21976764654110192, 'CG': 0.2739834536173209, 'GA': 0.25399797176066774, 'GT': 0.21592947967860207, 'GC': 0.2820032763866136, 'GG': 0.24806927217411653}\n"
     ]
    }
   ],
   "source": [
    "freq_rel=calcula_matriz(freq_abs)\n",
    "print(freq_rel)"
   ]
  },
  {
   "cell_type": "code",
   "execution_count": 59,
   "metadata": {},
   "outputs": [],
   "source": [
    "def calcula_matriz_1(dimeros):\n",
    "    alphabet = [\"A\", \"C\", \"T\", \"G\"]\n",
    "    for nt_1 in alphabet:\n",
    "        suma_nt1=0\n",
    "        for nt_2 in alphabet:\n",
    "            key = nt_1 + nt_2\n",
    "            suma_nt1 += dimeros[key]\n",
    "        for nt_2 in alphabet:\n",
    "            key = nt_1 + nt_2\n",
    "            dimeros[key] /= suma_nt1\n",
    "    return(dimeros)"
   ]
  },
  {
   "cell_type": "code",
   "execution_count": 62,
   "metadata": {},
   "outputs": [
    {
     "name": "stdout",
     "output_type": "stream",
     "text": [
      "{'AA': 0.29933517107183394, 'AT': 0.2705529430841576, 'AC': 0.2086103453867358, 'AG': 0.22150154045727255, 'TA': 0.18104455197730684, 'TT': 0.27907558818621725, 'TC': 0.22334390121808778, 'TG': 0.3165359586183881, 'CA': 0.28304875902129906, 'CT': 0.22320014082027811, 'CC': 0.21976764654110192, 'CG': 0.2739834536173209, 'GA': 0.25399797176066774, 'GT': 0.21592947967860207, 'GC': 0.2820032763866136, 'GG': 0.24806927217411653}\n"
     ]
    }
   ],
   "source": [
    "freq_rel=calcula_matriz_1(freq_abs)\n",
    "print(freq_rel)"
   ]
  },
  {
   "cell_type": "code",
   "execution_count": 65,
   "metadata": {},
   "outputs": [
    {
     "data": {
      "text/plain": [
       "({'A': 0.2542987918023999,\n",
       "  'C': 0.23425838109768668,\n",
       "  'G': 0.2643189971547565,\n",
       "  'T': 0.24712382994515691},\n",
       " {'GG': 1.1488439306358382,\n",
       "  'GC': 1.3059971098265897,\n",
       "  'CG': 1.2275236593059937,\n",
       "  'GA': 1.176300578034682,\n",
       "  'AC': 0.77105184297273,\n",
       "  'CC': 0.9846214511041009,\n",
       "  'CT': 1.0,\n",
       "  'TC': 0.8002989536621824,\n",
       "  'GT': 1.0,\n",
       "  'TT': 1.0,\n",
       "  'TA': 0.648729446935725,\n",
       "  'AT': 1.0,\n",
       "  'TG': 1.1342301943198805,\n",
       "  'AA': 1.1063829787234043,\n",
       "  'AG': 0.818699430626311,\n",
       "  'CA': 1.2681388012618298})"
      ]
     },
     "execution_count": 65,
     "metadata": {},
     "output_type": "execute_result"
    }
   ],
   "source": [
    "get_markovian_model(lambda_phage_seq)"
   ]
  }
 ],
 "metadata": {
  "kernelspec": {
   "display_name": "Python 3 (ipykernel)",
   "language": "python",
   "name": "python3"
  },
  "language_info": {
   "codemirror_mode": {
    "name": "ipython",
    "version": 3
   },
   "file_extension": ".py",
   "mimetype": "text/x-python",
   "name": "python",
   "nbconvert_exporter": "python",
   "pygments_lexer": "ipython3",
   "version": "3.12.0"
  }
 },
 "nbformat": 4,
 "nbformat_minor": 4
}
