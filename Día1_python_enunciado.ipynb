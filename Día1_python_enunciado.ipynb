{
 "cells": [
  {
   "cell_type": "markdown",
   "id": "25e406e4",
   "metadata": {},
   "source": [
    "# Python básico\n",
    "\n",
    "Ana Belén Romero Losada\n",
    "Departamento de Ciencias de la Computación e Inteligencia Artificial\n",
    "Universidad de Sevila\n",
    "\n",
    "En esta hoja de trabajo vamos a ver lo esencial de Python para poder empezar a practicar con el lenguaje.\n",
    "\n",
    "En el entorno Jupyter se trabaja Python sobre un notebook u hoja de trabajo. Esta hoja de trabajo está formada por una secuencia de cajas, que pueden ser de texto, en las que explicar ideas y conceptos, o de código, en las que definir o evaluar funciones Python.\n"
   ]
  },
  {
   "cell_type": "markdown",
   "id": "6f83aa55",
   "metadata": {},
   "source": [
    "##  Ejercicio 1\n",
    "\n",
    "Crea una función que resuelva una ecuación de segundo grado en jupyter y en R. Compara las diferencias a la hora de realizar operaciones aritméticas y lógicas, declarar variables/objetos y usar las estructuras de control. \n",
    "\n",
    "PISTA: existe una función llamada round() para redondear. Se usa como típicamente se usa en R."
   ]
  },
  {
   "cell_type": "code",
   "execution_count": 8,
   "id": "5a496365",
   "metadata": {},
   "outputs": [],
   "source": [
    "#Crea la funcion llamada calculadora\n",
    "##comprueba si el número que iría dentro de la raiz cuadrada es negativo\n",
    "###Devuelve 0 y un mensaje de error\n",
    "##en el caso que no lo sea, resuelve la ecuacion\n",
    "### imprime por pantalla los siguientes mensajes\n",
    "####\"ambas soluciones son válidas, x puede valer sol1 y sol2\"\n",
    "####\"Solo la solucion 1 es válida, x vale sol1\"\n",
    "####\"Solo la solucion 2 es válida, x vale sol2\"\n",
    "\n",
    "def calculadora (a,b,c):\n",
    "    dentro_raiz=(b**2-4*a*c)\n",
    "    if dentro_raiz<0 :\n",
    "        print(\"La ecuación no tiene solución\")\n",
    "    else :\n",
    "        sol1=((-b+dentro_raiz**(1/2))/2*a)\n",
    "        sol2=((-b-dentro_raiz**(1/2))/2*a)\n",
    "\n",
    "        ec1=((a*(sol1**2))+b*sol1+c)\n",
    "        ec2=((a*(sol2**2))+b*sol2+c)\n",
    "\n",
    "        if round(ec1)==0 and round(ec2)==0 :\n",
    "            print(\"Ambas soluciones son válidas, x puede valer\", sol1, \"o\", sol2)\n",
    "            \n",
    "        elif round(ec1)==0 and round(ec2)!=0 :\n",
    "            print(\"Sólo una solución es válida, x vale\", sol1)\n",
    "            \n",
    "        elif round(ec2)==0 and round(ec1)!=0 :\n",
    "            print(\"Sólo una solución es válida, x vale\", sol2)\n",
    "\n"
   ]
  },
  {
   "cell_type": "code",
   "execution_count": 9,
   "id": "12dde7a4",
   "metadata": {
    "scrolled": true
   },
   "outputs": [
    {
     "name": "stdout",
     "output_type": "stream",
     "text": [
      "La ecuación no tiene solución\n"
     ]
    }
   ],
   "source": [
    "calculadora(2,4,7)"
   ]
  },
  {
   "cell_type": "markdown",
   "id": "0bdfc9f1",
   "metadata": {},
   "source": [
    "## Ejercicio 2\n",
    "\n",
    "Traduce este pseudocódigo a código en R y python simultáneamente. \n",
    "\n"
   ]
  },
  {
   "cell_type": "code",
   "execution_count": 24,
   "id": "d22b6179",
   "metadata": {},
   "outputs": [
    {
     "data": {
      "text/plain": [
       "6"
      ]
     },
     "execution_count": 24,
     "metadata": {},
     "output_type": "execute_result"
    }
   ],
   "source": [
    "## nombrar varias variables a la vez\n",
    "t,f,r=0,5,6\n",
    "\n",
    "#Declara una variable llamada x que valga 2\n",
    "#Súmale 2 a x\n",
    "x=2\n",
    "x+=3\n",
    "x*=2\n",
    "x-=4\n",
    "x"
   ]
  },
  {
   "cell_type": "code",
   "execution_count": 8,
   "id": "c04298d3",
   "metadata": {},
   "outputs": [
    {
     "data": {
      "text/plain": [
       "'hola hola hola hola '"
      ]
     },
     "execution_count": 8,
     "metadata": {},
     "output_type": "execute_result"
    }
   ],
   "source": [
    "#Declara una variable llamada palabra que valga \"hola\"\n",
    "#Cuadrupicla la variable palabra\n",
    "palabra=\"hola \"\n",
    "palabra*=4\n",
    "palabra"
   ]
  },
  {
   "cell_type": "code",
   "execution_count": 9,
   "id": "a9457486",
   "metadata": {},
   "outputs": [
    {
     "name": "stdout",
     "output_type": "stream",
     "text": [
      "hola hola hola hola mundo que tal\n"
     ]
    },
    {
     "data": {
      "text/plain": [
       "5"
      ]
     },
     "execution_count": 9,
     "metadata": {},
     "output_type": "execute_result"
    }
   ],
   "source": [
    "#añade las palabras \"mundo que tal \" a palabra\n",
    "palabra+=\"mundo que tal\"\n",
    "print(palabra)\n",
    "\n",
    "#encuentra en que posicion está mundo\n",
    "palabra.index(\"mundo\")\n",
    "#cada caracter dentro de la cadena es un elemento\n",
    "\n",
    "#escribelo en mayuscula y cuenta cuantas \"a\" hay (esto hazlo solo en python)\n",
    "palabra.upper()\n",
    "palabra.find(\"tal\")\n",
    "palabra.count(\"a\")\n"
   ]
  },
  {
   "cell_type": "code",
   "execution_count": 2,
   "id": "d62dfe8c-fcc5-46d1-8991-53c73ee15693",
   "metadata": {},
   "outputs": [
    {
     "ename": "NameError",
     "evalue": "name 'palabra' is not defined",
     "output_type": "error",
     "traceback": [
      "\u001b[1;31m---------------------------------------------------------------------------\u001b[0m",
      "\u001b[1;31mNameError\u001b[0m                                 Traceback (most recent call last)",
      "Cell \u001b[1;32mIn[2], line 1\u001b[0m\n\u001b[1;32m----> 1\u001b[0m palabra[\u001b[38;5;241m0\u001b[39m:\u001b[38;5;241m6\u001b[39m]\n\u001b[0;32m      2\u001b[0m \u001b[38;5;28mprint\u001b[39m(palabra[:\u001b[38;5;241m6\u001b[39m])\n\u001b[0;32m      4\u001b[0m \u001b[38;5;66;03m#que vaya del 0 al 6\u001b[39;00m\n",
      "\u001b[1;31mNameError\u001b[0m: name 'palabra' is not defined"
     ]
    }
   ],
   "source": [
    "palabra[0:6]\n",
    "print(palabra[:6])\n",
    "\n",
    "#que vaya del 0 al 6\n",
    "\n",
    "palabra[0:12:2]\n",
    "#que vaya del 0 al 12 de dos en dos\n",
    "\n",
    "palabra[0:]\n",
    "#que vaya del principio al final\n",
    "\n",
    "palabra[::-1]\n",
    "#que vaya desde el final al incio, es decir, al revés\n",
    "\n",
    "len(palabra)\n"
   ]
  },
  {
   "cell_type": "markdown",
   "id": "cd1fc86f",
   "metadata": {},
   "source": [
    "## Ejercicio 3\n",
    "\n",
    "Vamos a prácticar con las demás clases de objetos en python."
   ]
  },
  {
   "cell_type": "code",
   "execution_count": 6,
   "id": "95a15183",
   "metadata": {},
   "outputs": [
    {
     "name": "stdout",
     "output_type": "stream",
     "text": [
      "(1, 4, 5, 'hola', 'hola')\n"
     ]
    },
    {
     "ename": "TypeError",
     "evalue": "'tuple' object does not support item assignment",
     "output_type": "error",
     "traceback": [
      "\u001b[1;31m---------------------------------------------------------------------------\u001b[0m",
      "\u001b[1;31mTypeError\u001b[0m                                 Traceback (most recent call last)",
      "Cell \u001b[1;32mIn[6], line 28\u001b[0m\n\u001b[0;32m     24\u001b[0m \u001b[38;5;28mprint\u001b[39m(tupla1)\n\u001b[0;32m     25\u001b[0m \u001b[38;5;66;03m##sino le pongo los () y la , (o solo la ,)se cree que es un string(cadena, lo de que tal mundo); tiene que concatenar cadena\u001b[39;00m\n\u001b[0;32m     26\u001b[0m \n\u001b[0;32m     27\u001b[0m \u001b[38;5;66;03m#Modifica el valor de la posición 2 en la tupla por la palabra \"hola\"\u001b[39;00m\n\u001b[1;32m---> 28\u001b[0m tupla1[\u001b[38;5;241m2\u001b[39m]\u001b[38;5;241m=\u001b[39m\u001b[38;5;241m5\u001b[39m\n",
      "\u001b[1;31mTypeError\u001b[0m: 'tuple' object does not support item assignment"
     ]
    }
   ],
   "source": [
    "#############tuplas\n",
    "##se dice TUPLA\n",
    "#Crea una tupla con tres elementos, el elemento más parecido a un vector\n",
    "tupla1=(1,4,5,\"hola\")\n",
    "tabla2=3,4,5,6,\"lala\"\n",
    "### no puede tener otro objeto dentro, es decir, otro vector una lista...\n",
    "\n",
    "#Crea una tupla con un elemento\n",
    "tupla3=1,\n",
    "###si solo pongo =1 se cree que es una variable, no una tupla\n",
    "\n",
    "#Crea una tupla vacía\n",
    "tabla4=()\n",
    "\n",
    "#recorre la tupla al revés\n",
    "tupla1[::-1]\n",
    "tupla1[2]\n",
    "\n",
    "#está el valor 6 en la tupla?\n",
    "\"hola\" in tupla1\n",
    "\n",
    "#Concatena, es decir, añade al final de la tupla: el valor 10\n",
    "tupla1+=(\"hola\",)\n",
    "print(tupla1)\n",
    "##sino le pongo los () y la , (o solo la ,)se cree que es un string(cadena, lo de que tal mundo); tiene que concatenar cadena\n",
    "\n",
    "#Modifica el valor de la posición 2 en la tupla por la palabra \"hola\"\n",
    "tupla1[2]=5\n",
    "#NO se puede REASIGNAR con tupla, sino con listas"
   ]
  },
  {
   "cell_type": "code",
   "execution_count": 76,
   "id": "305c0ac9",
   "metadata": {},
   "outputs": [
    {
     "name": "stdout",
     "output_type": "stream",
     "text": [
      "[1, 3, 4, [1, 2, 4], (1, 4, 5, 'hola', 'hola')]\n",
      "['hola', 'mundo', 'hola', 'tal']\n",
      "['hola', 'mundo', 'hola', 'tal', 122, 'hola']\n",
      "[2]\n"
     ]
    },
    {
     "data": {
      "text/plain": [
       "'hola y lala'"
      ]
     },
     "execution_count": 76,
     "metadata": {},
     "output_type": "execute_result"
    }
   ],
   "source": [
    "#############listas\n",
    "l=[1,2,4]\n",
    "##si o si con corchete\n",
    "lista1=[1,3,4,l, tupla1]\n",
    "print(lista1)\n",
    "\n",
    "#Crea una lista que dentro tenga palabras\n",
    "lista2=[\"hola\", \"mundo\", \"que\", \"tal\"]\n",
    "\n",
    "#Modifica el valor de la posición 2 en la lista por la palabra \"hola\"\n",
    "lista2[2]=\"hola\"\n",
    "print(lista2)\n",
    "\n",
    "#Concatena el valor 122 con tu lista\n",
    "lista2+=[122]\n",
    "\n",
    "#Concatena el valor \"hola\" con tu lista\n",
    "lista2+=[\"hola\"]\n",
    "print(lista2)\n",
    "\n",
    "#Crea una losta vacia y concatena 2\n",
    "lista_vacia=[]\n",
    "lista_vacia.append(2)\n",
    "print(lista_vacia)\n",
    "##concatena igual que con la asignación aumentada, pero no obligatoriamente tiene que estar en forma lista\n",
    "\n",
    "#Transforma la lista en una string con la función .join\n",
    "##join no pasa números a string\n",
    "lista_3=[\"hola\", \"lala\"]\n",
    "\" \".join(lista_3)\n",
    "\" y \".join(lista_3)\n",
    "## te lo une con lo que pongas en \"\", se crea un string con un unico elemento\n",
    "\n",
    "#########for\n",
    "def mi_primer_bucle(lista):\n",
    "    # en R : for (i in 1:length(lista))\n",
    "    for i in range(0,(len(lista)+1)):\n",
    "        lista[i]<-x+1\n",
    "    for i in lista\n",
    "        lista[i]\n",
    "    "
   ]
  },
  {
   "cell_type": "code",
   "execution_count": 1,
   "id": "37b322bc",
   "metadata": {},
   "outputs": [
    {
     "name": "stdout",
     "output_type": "stream",
     "text": [
      "Juan\n",
      "8\n",
      "Ana\n",
      "7\n",
      "Mary\n",
      "6\n"
     ]
    }
   ],
   "source": [
    "#############Diccionarios\n",
    "#Crea un diccionario\n",
    "#accede al valor de la 2ª clave\n",
    "#Añade una clave nueva con su correspondiente valor\n",
    "#Accede solo a los valores, o solo a las claves\n",
    "\n",
    "notas = {\"Juan\":8, \"Ana\":7, \"Mary\":6}\n",
    "\n",
    "\n",
    "# pones primeros las keys, en este caso los nombres, y luego los values. \n",
    "\n",
    "for (nombre, nota) in notas.items():\n",
    "    print(nombre)\n",
    "    print (nota)\n",
    "    \n",
    "# (nombre, nota), son los nombres que yo le quiero poner, puedo cambiarlo, simplemnte el primero cogerá todas las keys \n",
    "# y el segundo los values."
   ]
  },
  {
   "cell_type": "code",
   "execution_count": 4,
   "id": "18924ffa",
   "metadata": {},
   "outputs": [
    {
     "name": "stdout",
     "output_type": "stream",
     "text": [
      "{'Juan': 8, 'Ana': 7, 'Mary': 6}\n",
      "8\n",
      "7\n",
      "6\n"
     ]
    }
   ],
   "source": [
    "for nota in notas.values():\n",
    "    print(nota)"
   ]
  },
  {
   "cell_type": "code",
   "execution_count": 3,
   "id": "d3480c1a",
   "metadata": {},
   "outputs": [
    {
     "name": "stdout",
     "output_type": "stream",
     "text": [
      "Juan\n",
      "Ana\n",
      "Mary\n"
     ]
    }
   ],
   "source": [
    "for nombres in notas.keys():\n",
    "    print(nombres)"
   ]
  }
 ],
 "metadata": {
  "kernelspec": {
   "display_name": "Python 3 (ipykernel)",
   "language": "python",
   "name": "python3"
  },
  "language_info": {
   "codemirror_mode": {
    "name": "ipython",
    "version": 3
   },
   "file_extension": ".py",
   "mimetype": "text/x-python",
   "name": "python",
   "nbconvert_exporter": "python",
   "pygments_lexer": "ipython3",
   "version": "3.11.5"
  }
 },
 "nbformat": 4,
 "nbformat_minor": 5
}
